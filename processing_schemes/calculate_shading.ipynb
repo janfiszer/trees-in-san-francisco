{
 "cells": [
  {
   "cell_type": "code",
   "execution_count": 2,
   "outputs": [],
   "source": [
    "import osmnx\n",
    "import geopandas as gpd"
   ],
   "metadata": {
    "collapsed": false,
    "pycharm": {
     "name": "#%%\n"
    }
   }
  },
  {
   "cell_type": "code",
   "execution_count": 3,
   "metadata": {},
   "outputs": [],
   "source": [
    "# loading trees data\n",
    "trees_df = gpd.read_file(\"../data/SF_urban_tree_canopy.geojson\")"
   ]
  },
  {
   "cell_type": "code",
   "execution_count": 4,
   "metadata": {
    "pycharm": {
     "name": "#%%\n"
    }
   },
   "outputs": [],
   "source": [
    "# filtering ways which are considered as streets (see: https://wiki.openstreetmap.org/wiki/Key:highway)\n",
    "osm_tags = {\n",
    "    'highway': [\n",
    "    \"motorway\",\n",
    "    \"trunk\",\n",
    "    \"primary\",\n",
    "    \"secondary\",\n",
    "    \"living_street\",\n",
    "    \"primary_link\",\n",
    "    \"service\",\n",
    "    \"unclassified\",\n",
    "    \"motorway_link\",\n",
    "    \"secondary_link\",\n",
    "    \"tertiary\",\n",
    "    \"residential\",\n",
    "    \"trunk_link\",\n",
    "    \"tertiary_link\",\n",
    "    \"cycleway\",\n",
    "    \"path\",\n",
    "    \"track\"\n",
    "]\n",
    "}\n",
    "\n",
    "# loading street data\n",
    "streets_df = osmnx.geometries_from_place(\"San Francisco\", tags=osm_tags)"
   ]
  },
  {
   "cell_type": "code",
   "execution_count": 5,
   "metadata": {
    "pycharm": {
     "name": "#%%\n"
    }
   },
   "outputs": [
    {
     "data": {
      "text/plain": "                 acres   name           t_sqft  \\\n0  0.00000221382430071  Trees  0.0964338008024   \n1    0.000145516346336  Trees    6.33866669167   \n2     0.00012630908548  Trees    5.50200175546   \n3     0.00115850942522  Trees     50.464468704   \n4     0.00565374316464  Trees    246.276067144   \n\n                                            geometry  \n0  MULTIPOLYGON (((-122.43470 37.70830, -122.4347...  \n1  MULTIPOLYGON (((-122.43473 37.70830, -122.4347...  \n2  MULTIPOLYGON (((-122.43564 37.70829, -122.4356...  \n3  MULTIPOLYGON (((-122.43574 37.70831, -122.4357...  \n4  MULTIPOLYGON (((-122.43538 37.70831, -122.4353...  ",
      "text/html": "<div>\n<style scoped>\n    .dataframe tbody tr th:only-of-type {\n        vertical-align: middle;\n    }\n\n    .dataframe tbody tr th {\n        vertical-align: top;\n    }\n\n    .dataframe thead th {\n        text-align: right;\n    }\n</style>\n<table border=\"1\" class=\"dataframe\">\n  <thead>\n    <tr style=\"text-align: right;\">\n      <th></th>\n      <th>acres</th>\n      <th>name</th>\n      <th>t_sqft</th>\n      <th>geometry</th>\n    </tr>\n  </thead>\n  <tbody>\n    <tr>\n      <th>0</th>\n      <td>0.00000221382430071</td>\n      <td>Trees</td>\n      <td>0.0964338008024</td>\n      <td>MULTIPOLYGON (((-122.43470 37.70830, -122.4347...</td>\n    </tr>\n    <tr>\n      <th>1</th>\n      <td>0.000145516346336</td>\n      <td>Trees</td>\n      <td>6.33866669167</td>\n      <td>MULTIPOLYGON (((-122.43473 37.70830, -122.4347...</td>\n    </tr>\n    <tr>\n      <th>2</th>\n      <td>0.00012630908548</td>\n      <td>Trees</td>\n      <td>5.50200175546</td>\n      <td>MULTIPOLYGON (((-122.43564 37.70829, -122.4356...</td>\n    </tr>\n    <tr>\n      <th>3</th>\n      <td>0.00115850942522</td>\n      <td>Trees</td>\n      <td>50.464468704</td>\n      <td>MULTIPOLYGON (((-122.43574 37.70831, -122.4357...</td>\n    </tr>\n    <tr>\n      <th>4</th>\n      <td>0.00565374316464</td>\n      <td>Trees</td>\n      <td>246.276067144</td>\n      <td>MULTIPOLYGON (((-122.43538 37.70831, -122.4353...</td>\n    </tr>\n  </tbody>\n</table>\n</div>"
     },
     "execution_count": 5,
     "metadata": {},
     "output_type": "execute_result"
    }
   ],
   "source": [
    "trees_df.head()"
   ]
  },
  {
   "cell_type": "code",
   "execution_count": 6,
   "metadata": {
    "pycharm": {
     "name": "#%%\n"
    }
   },
   "outputs": [
    {
     "name": "stderr",
     "output_type": "stream",
     "text": [
      "C:\\Users\\JF\\.conda\\envs\\DataEngineering\\lib\\site-packages\\geopandas\\_vectorized.py:786: DeprecationWarning: An exception was ignored while fetching the attribute `__array_interface__` from an object of type 'Polygon'.  With the exception of `AttributeError` NumPy will always raise this exception in the future.  Raise this deprecation warning to see the original exception. (Warning added NumPy 1.21)\n",
      "  out[:] = [\n",
      "C:\\Users\\JF\\.conda\\envs\\DataEngineering\\lib\\site-packages\\geopandas\\_vectorized.py:786: DeprecationWarning: An exception was ignored while fetching the attribute `__array_interface__` from an object of type 'MultiPolygon'.  With the exception of `AttributeError` NumPy will always raise this exception in the future.  Raise this deprecation warning to see the original exception. (Warning added NumPy 1.21)\n",
      "  out[:] = [\n",
      "C:\\Users\\JF\\.conda\\envs\\DataEngineering\\lib\\site-packages\\geopandas\\_vectorized.py:142: DeprecationWarning: An exception was ignored while fetching the attribute `__array_interface__` from an object of type 'Polygon'.  With the exception of `AttributeError` NumPy will always raise this exception in the future.  Raise this deprecation warning to see the original exception. (Warning added NumPy 1.21)\n",
      "  aout[:] = out\n",
      "C:\\Users\\JF\\.conda\\envs\\DataEngineering\\lib\\site-packages\\geopandas\\_vectorized.py:142: DeprecationWarning: An exception was ignored while fetching the attribute `__array_interface__` from an object of type 'MultiPolygon'.  With the exception of `AttributeError` NumPy will always raise this exception in the future.  Raise this deprecation warning to see the original exception. (Warning added NumPy 1.21)\n",
      "  aout[:] = out\n"
     ]
    }
   ],
   "source": [
    "# getting geometry columns\n",
    "# that's what is important in case of intersection\n",
    "street_shapes = streets_df.geometry\n",
    "\n",
    "# buffer(0) deals with invalid trees shapes\n",
    "trees_shapes = trees_df.geometry.buffer(0)"
   ]
  },
  {
   "cell_type": "code",
   "execution_count": 7,
   "outputs": [
    {
     "name": "stdout",
     "output_type": "stream",
     "text": [
      "(289219,) (289219,)\n"
     ]
    }
   ],
   "source": [
    "# checking if the shape is same\n",
    "print(trees_shapes.shape,\n",
    "    trees_df.geometry.shape)"
   ],
   "metadata": {
    "collapsed": false,
    "pycharm": {
     "name": "#%%\n"
    }
   }
  },
  {
   "cell_type": "code",
   "execution_count": 11,
   "metadata": {
    "pycharm": {
     "name": "#%%\n"
    }
   },
   "outputs": [
    {
     "name": "stderr",
     "output_type": "stream",
     "text": [
      "C:\\Users\\JF\\AppData\\Local\\Temp\\ipykernel_556\\2226115096.py:2: UserWarning: Geometry is in a geographic CRS. Results from 'length' are likely incorrect. Use 'GeoSeries.to_crs()' to re-project geometries to a projected CRS before this operation.\n",
      "\n",
      "  streets_df['length'] = streets_df.geometry.length\n"
     ]
    },
    {
     "data": {
      "text/plain": "element_type  osmid  \nway           5004035    0.000851\n              5071582    0.002131\n              7373728    0.000986\n              7373736    0.005475\n              7448875    0.001665\nName: length, dtype: float64"
     },
     "execution_count": 11,
     "metadata": {},
     "output_type": "execute_result"
    }
   ],
   "source": [
    "# calculating length of each way\n",
    "streets_df['length'] = streets_df.geometry.length\n",
    "streets_df['length'].head()"
   ]
  },
  {
   "cell_type": "markdown",
   "source": [
    "## Calculating the shading of each way\n",
    "Using the `intersection()` method, we calculate the common parts of trees and streets, obtaining several non-empty LINESTRING elements for each street that represent the shaded parts of the street. We then take the sum of the lengths of these elements and store this value in the `shaded_length` column. We can do this because the tree shapes do not overlap, we have checked that (you can see in the dataset description that the data was collected from satellite images, see: https://data.sfgov.org/Energy-and-Environment/SF-Urban-Tree-Canopy/55pv-5zcc). The sum of these lengths represents the total length over which the street is shaded.\n",
    "\n",
    "We don't convert CRS because of three reasons:\n",
    "- CRSes of both geometries are the same\n",
    "- we calculate percentage so the unit is not important\n",
    "- the distances around a single city are small so the earth rounding does not play any significant role here\n",
    "\n",
    "WARNING: this might take a while..."
   ],
   "metadata": {
    "collapsed": false
   }
  },
  {
   "cell_type": "markdown",
   "source": [],
   "metadata": {
    "collapsed": false
   }
  },
  {
   "cell_type": "code",
   "execution_count": 9,
   "outputs": [
    {
     "data": {
      "text/plain": "True"
     },
     "execution_count": 9,
     "metadata": {},
     "output_type": "execute_result"
    }
   ],
   "source": [
    "# first bullet point\n",
    "streets_df.crs == trees_df.crs"
   ],
   "metadata": {
    "collapsed": false,
    "pycharm": {
     "name": "#%%\n"
    }
   }
  },
  {
   "cell_type": "code",
   "execution_count": 10,
   "outputs": [
    {
     "ename": "KeyboardInterrupt",
     "evalue": "",
     "output_type": "error",
     "traceback": [
      "\u001B[1;31m---------------------------------------------------------------------------\u001B[0m",
      "\u001B[1;31mKeyboardInterrupt\u001B[0m                         Traceback (most recent call last)",
      "Input \u001B[1;32mIn [10]\u001B[0m, in \u001B[0;36m<cell line: 6>\u001B[1;34m()\u001B[0m\n\u001B[0;32m      3\u001B[0m \u001B[38;5;28;01mdef\u001B[39;00m \u001B[38;5;21mcalculate_shading\u001B[39m(row):\n\u001B[0;32m      4\u001B[0m     \u001B[38;5;28;01mreturn\u001B[39;00m trees_shapes\u001B[38;5;241m.\u001B[39mintersection(row[\u001B[38;5;124m'\u001B[39m\u001B[38;5;124mgeometry\u001B[39m\u001B[38;5;124m'\u001B[39m])\u001B[38;5;241m.\u001B[39mlength\u001B[38;5;241m.\u001B[39msum()\n\u001B[1;32m----> 6\u001B[0m streets_df[\u001B[38;5;124m'\u001B[39m\u001B[38;5;124mshaded_length\u001B[39m\u001B[38;5;124m'\u001B[39m] \u001B[38;5;241m=\u001B[39m \u001B[43mstreets_df\u001B[49m\u001B[38;5;241;43m.\u001B[39;49m\u001B[43mapply\u001B[49m\u001B[43m(\u001B[49m\u001B[43mcalculate_shading\u001B[49m\u001B[43m,\u001B[49m\u001B[43m \u001B[49m\u001B[43maxis\u001B[49m\u001B[38;5;241;43m=\u001B[39;49m\u001B[38;5;241;43m1\u001B[39;49m\u001B[43m)\u001B[49m\n",
      "File \u001B[1;32m~\\.conda\\envs\\DataEngineering\\lib\\site-packages\\geopandas\\geodataframe.py:1361\u001B[0m, in \u001B[0;36mGeoDataFrame.apply\u001B[1;34m(self, func, axis, raw, result_type, args, **kwargs)\u001B[0m\n\u001B[0;32m   1359\u001B[0m \u001B[38;5;129m@inherit_doc\u001B[39m(pd\u001B[38;5;241m.\u001B[39mDataFrame)\n\u001B[0;32m   1360\u001B[0m \u001B[38;5;28;01mdef\u001B[39;00m \u001B[38;5;21mapply\u001B[39m(\u001B[38;5;28mself\u001B[39m, func, axis\u001B[38;5;241m=\u001B[39m\u001B[38;5;241m0\u001B[39m, raw\u001B[38;5;241m=\u001B[39m\u001B[38;5;28;01mFalse\u001B[39;00m, result_type\u001B[38;5;241m=\u001B[39m\u001B[38;5;28;01mNone\u001B[39;00m, args\u001B[38;5;241m=\u001B[39m(), \u001B[38;5;241m*\u001B[39m\u001B[38;5;241m*\u001B[39mkwargs):\n\u001B[1;32m-> 1361\u001B[0m     result \u001B[38;5;241m=\u001B[39m \u001B[38;5;28;43msuper\u001B[39;49m\u001B[43m(\u001B[49m\u001B[43m)\u001B[49m\u001B[38;5;241;43m.\u001B[39;49m\u001B[43mapply\u001B[49m\u001B[43m(\u001B[49m\n\u001B[0;32m   1362\u001B[0m \u001B[43m        \u001B[49m\u001B[43mfunc\u001B[49m\u001B[43m,\u001B[49m\u001B[43m \u001B[49m\u001B[43maxis\u001B[49m\u001B[38;5;241;43m=\u001B[39;49m\u001B[43maxis\u001B[49m\u001B[43m,\u001B[49m\u001B[43m \u001B[49m\u001B[43mraw\u001B[49m\u001B[38;5;241;43m=\u001B[39;49m\u001B[43mraw\u001B[49m\u001B[43m,\u001B[49m\u001B[43m \u001B[49m\u001B[43mresult_type\u001B[49m\u001B[38;5;241;43m=\u001B[39;49m\u001B[43mresult_type\u001B[49m\u001B[43m,\u001B[49m\u001B[43m \u001B[49m\u001B[43margs\u001B[49m\u001B[38;5;241;43m=\u001B[39;49m\u001B[43margs\u001B[49m\u001B[43m,\u001B[49m\u001B[43m \u001B[49m\u001B[38;5;241;43m*\u001B[39;49m\u001B[38;5;241;43m*\u001B[39;49m\u001B[43mkwargs\u001B[49m\n\u001B[0;32m   1363\u001B[0m \u001B[43m    \u001B[49m\u001B[43m)\u001B[49m\n\u001B[0;32m   1364\u001B[0m     \u001B[38;5;28;01mif\u001B[39;00m (\n\u001B[0;32m   1365\u001B[0m         \u001B[38;5;28misinstance\u001B[39m(result, GeoDataFrame)\n\u001B[0;32m   1366\u001B[0m         \u001B[38;5;129;01mand\u001B[39;00m \u001B[38;5;28mself\u001B[39m\u001B[38;5;241m.\u001B[39m_geometry_column_name \u001B[38;5;129;01min\u001B[39;00m result\u001B[38;5;241m.\u001B[39mcolumns\n\u001B[0;32m   1367\u001B[0m         \u001B[38;5;129;01mand\u001B[39;00m \u001B[38;5;28many\u001B[39m(\u001B[38;5;28misinstance\u001B[39m(t, GeometryDtype) \u001B[38;5;28;01mfor\u001B[39;00m t \u001B[38;5;129;01min\u001B[39;00m result\u001B[38;5;241m.\u001B[39mdtypes)\n\u001B[0;32m   1368\u001B[0m     ):\n\u001B[0;32m   1369\u001B[0m         \u001B[38;5;28;01mif\u001B[39;00m \u001B[38;5;28mself\u001B[39m\u001B[38;5;241m.\u001B[39mcrs \u001B[38;5;129;01mis\u001B[39;00m \u001B[38;5;129;01mnot\u001B[39;00m \u001B[38;5;28;01mNone\u001B[39;00m \u001B[38;5;129;01mand\u001B[39;00m result\u001B[38;5;241m.\u001B[39mcrs \u001B[38;5;129;01mis\u001B[39;00m \u001B[38;5;28;01mNone\u001B[39;00m:\n",
      "File \u001B[1;32m~\\.conda\\envs\\DataEngineering\\lib\\site-packages\\pandas\\core\\frame.py:8839\u001B[0m, in \u001B[0;36mDataFrame.apply\u001B[1;34m(self, func, axis, raw, result_type, args, **kwargs)\u001B[0m\n\u001B[0;32m   8828\u001B[0m \u001B[38;5;28;01mfrom\u001B[39;00m \u001B[38;5;21;01mpandas\u001B[39;00m\u001B[38;5;21;01m.\u001B[39;00m\u001B[38;5;21;01mcore\u001B[39;00m\u001B[38;5;21;01m.\u001B[39;00m\u001B[38;5;21;01mapply\u001B[39;00m \u001B[38;5;28;01mimport\u001B[39;00m frame_apply\n\u001B[0;32m   8830\u001B[0m op \u001B[38;5;241m=\u001B[39m frame_apply(\n\u001B[0;32m   8831\u001B[0m     \u001B[38;5;28mself\u001B[39m,\n\u001B[0;32m   8832\u001B[0m     func\u001B[38;5;241m=\u001B[39mfunc,\n\u001B[1;32m   (...)\u001B[0m\n\u001B[0;32m   8837\u001B[0m     kwargs\u001B[38;5;241m=\u001B[39mkwargs,\n\u001B[0;32m   8838\u001B[0m )\n\u001B[1;32m-> 8839\u001B[0m \u001B[38;5;28;01mreturn\u001B[39;00m \u001B[43mop\u001B[49m\u001B[38;5;241;43m.\u001B[39;49m\u001B[43mapply\u001B[49m\u001B[43m(\u001B[49m\u001B[43m)\u001B[49m\u001B[38;5;241m.\u001B[39m__finalize__(\u001B[38;5;28mself\u001B[39m, method\u001B[38;5;241m=\u001B[39m\u001B[38;5;124m\"\u001B[39m\u001B[38;5;124mapply\u001B[39m\u001B[38;5;124m\"\u001B[39m)\n",
      "File \u001B[1;32m~\\.conda\\envs\\DataEngineering\\lib\\site-packages\\pandas\\core\\apply.py:727\u001B[0m, in \u001B[0;36mFrameApply.apply\u001B[1;34m(self)\u001B[0m\n\u001B[0;32m    724\u001B[0m \u001B[38;5;28;01melif\u001B[39;00m \u001B[38;5;28mself\u001B[39m\u001B[38;5;241m.\u001B[39mraw:\n\u001B[0;32m    725\u001B[0m     \u001B[38;5;28;01mreturn\u001B[39;00m \u001B[38;5;28mself\u001B[39m\u001B[38;5;241m.\u001B[39mapply_raw()\n\u001B[1;32m--> 727\u001B[0m \u001B[38;5;28;01mreturn\u001B[39;00m \u001B[38;5;28;43mself\u001B[39;49m\u001B[38;5;241;43m.\u001B[39;49m\u001B[43mapply_standard\u001B[49m\u001B[43m(\u001B[49m\u001B[43m)\u001B[49m\n",
      "File \u001B[1;32m~\\.conda\\envs\\DataEngineering\\lib\\site-packages\\pandas\\core\\apply.py:851\u001B[0m, in \u001B[0;36mFrameApply.apply_standard\u001B[1;34m(self)\u001B[0m\n\u001B[0;32m    850\u001B[0m \u001B[38;5;28;01mdef\u001B[39;00m \u001B[38;5;21mapply_standard\u001B[39m(\u001B[38;5;28mself\u001B[39m):\n\u001B[1;32m--> 851\u001B[0m     results, res_index \u001B[38;5;241m=\u001B[39m \u001B[38;5;28;43mself\u001B[39;49m\u001B[38;5;241;43m.\u001B[39;49m\u001B[43mapply_series_generator\u001B[49m\u001B[43m(\u001B[49m\u001B[43m)\u001B[49m\n\u001B[0;32m    853\u001B[0m     \u001B[38;5;66;03m# wrap results\u001B[39;00m\n\u001B[0;32m    854\u001B[0m     \u001B[38;5;28;01mreturn\u001B[39;00m \u001B[38;5;28mself\u001B[39m\u001B[38;5;241m.\u001B[39mwrap_results(results, res_index)\n",
      "File \u001B[1;32m~\\.conda\\envs\\DataEngineering\\lib\\site-packages\\pandas\\core\\apply.py:867\u001B[0m, in \u001B[0;36mFrameApply.apply_series_generator\u001B[1;34m(self)\u001B[0m\n\u001B[0;32m    864\u001B[0m \u001B[38;5;28;01mwith\u001B[39;00m option_context(\u001B[38;5;124m\"\u001B[39m\u001B[38;5;124mmode.chained_assignment\u001B[39m\u001B[38;5;124m\"\u001B[39m, \u001B[38;5;28;01mNone\u001B[39;00m):\n\u001B[0;32m    865\u001B[0m     \u001B[38;5;28;01mfor\u001B[39;00m i, v \u001B[38;5;129;01min\u001B[39;00m \u001B[38;5;28menumerate\u001B[39m(series_gen):\n\u001B[0;32m    866\u001B[0m         \u001B[38;5;66;03m# ignore SettingWithCopy here in case the user mutates\u001B[39;00m\n\u001B[1;32m--> 867\u001B[0m         results[i] \u001B[38;5;241m=\u001B[39m \u001B[38;5;28;43mself\u001B[39;49m\u001B[38;5;241;43m.\u001B[39;49m\u001B[43mf\u001B[49m\u001B[43m(\u001B[49m\u001B[43mv\u001B[49m\u001B[43m)\u001B[49m\n\u001B[0;32m    868\u001B[0m         \u001B[38;5;28;01mif\u001B[39;00m \u001B[38;5;28misinstance\u001B[39m(results[i], ABCSeries):\n\u001B[0;32m    869\u001B[0m             \u001B[38;5;66;03m# If we have a view on v, we need to make a copy because\u001B[39;00m\n\u001B[0;32m    870\u001B[0m             \u001B[38;5;66;03m#  series_generator will swap out the underlying data\u001B[39;00m\n\u001B[0;32m    871\u001B[0m             results[i] \u001B[38;5;241m=\u001B[39m results[i]\u001B[38;5;241m.\u001B[39mcopy(deep\u001B[38;5;241m=\u001B[39m\u001B[38;5;28;01mFalse\u001B[39;00m)\n",
      "Input \u001B[1;32mIn [10]\u001B[0m, in \u001B[0;36mcalculate_shading\u001B[1;34m(row)\u001B[0m\n\u001B[0;32m      3\u001B[0m \u001B[38;5;28;01mdef\u001B[39;00m \u001B[38;5;21mcalculate_shading\u001B[39m(row):\n\u001B[1;32m----> 4\u001B[0m     \u001B[38;5;28;01mreturn\u001B[39;00m \u001B[43mtrees_shapes\u001B[49m\u001B[38;5;241;43m.\u001B[39;49m\u001B[43mintersection\u001B[49m\u001B[43m(\u001B[49m\u001B[43mrow\u001B[49m\u001B[43m[\u001B[49m\u001B[38;5;124;43m'\u001B[39;49m\u001B[38;5;124;43mgeometry\u001B[39;49m\u001B[38;5;124;43m'\u001B[39;49m\u001B[43m]\u001B[49m\u001B[43m)\u001B[49m\u001B[38;5;241m.\u001B[39mlength\u001B[38;5;241m.\u001B[39msum()\n",
      "File \u001B[1;32m~\\.conda\\envs\\DataEngineering\\lib\\site-packages\\geopandas\\base.py:2530\u001B[0m, in \u001B[0;36mGeoPandasBase.intersection\u001B[1;34m(self, other, align)\u001B[0m\n\u001B[0;32m   2419\u001B[0m \u001B[38;5;28;01mdef\u001B[39;00m \u001B[38;5;21mintersection\u001B[39m(\u001B[38;5;28mself\u001B[39m, other, align\u001B[38;5;241m=\u001B[39m\u001B[38;5;28;01mTrue\u001B[39;00m):\n\u001B[0;32m   2420\u001B[0m     \u001B[38;5;124;03m\"\"\"Returns a ``GeoSeries`` of the intersection of points in each\u001B[39;00m\n\u001B[0;32m   2421\u001B[0m \u001B[38;5;124;03m    aligned geometry with `other`.\u001B[39;00m\n\u001B[0;32m   2422\u001B[0m \n\u001B[1;32m   (...)\u001B[0m\n\u001B[0;32m   2528\u001B[0m \u001B[38;5;124;03m    GeoSeries.union\u001B[39;00m\n\u001B[0;32m   2529\u001B[0m \u001B[38;5;124;03m    \"\"\"\u001B[39;00m\n\u001B[1;32m-> 2530\u001B[0m     \u001B[38;5;28;01mreturn\u001B[39;00m \u001B[43m_binary_geo\u001B[49m\u001B[43m(\u001B[49m\u001B[38;5;124;43m\"\u001B[39;49m\u001B[38;5;124;43mintersection\u001B[39;49m\u001B[38;5;124;43m\"\u001B[39;49m\u001B[43m,\u001B[49m\u001B[43m \u001B[49m\u001B[38;5;28;43mself\u001B[39;49m\u001B[43m,\u001B[49m\u001B[43m \u001B[49m\u001B[43mother\u001B[49m\u001B[43m,\u001B[49m\u001B[43m \u001B[49m\u001B[43malign\u001B[49m\u001B[43m)\u001B[49m\n",
      "File \u001B[1;32m~\\.conda\\envs\\DataEngineering\\lib\\site-packages\\geopandas\\base.py:53\u001B[0m, in \u001B[0;36m_binary_geo\u001B[1;34m(op, this, other, align)\u001B[0m\n\u001B[0;32m     50\u001B[0m \u001B[38;5;124;03m\"\"\"Binary operation on GeoSeries objects that returns a GeoSeries\"\"\"\u001B[39;00m\n\u001B[0;32m     51\u001B[0m \u001B[38;5;28;01mfrom\u001B[39;00m \u001B[38;5;21;01m.\u001B[39;00m\u001B[38;5;21;01mgeoseries\u001B[39;00m \u001B[38;5;28;01mimport\u001B[39;00m GeoSeries\n\u001B[1;32m---> 53\u001B[0m geoms, index \u001B[38;5;241m=\u001B[39m \u001B[43m_delegate_binary_method\u001B[49m\u001B[43m(\u001B[49m\u001B[43mop\u001B[49m\u001B[43m,\u001B[49m\u001B[43m \u001B[49m\u001B[43mthis\u001B[49m\u001B[43m,\u001B[49m\u001B[43m \u001B[49m\u001B[43mother\u001B[49m\u001B[43m,\u001B[49m\u001B[43m \u001B[49m\u001B[43malign\u001B[49m\u001B[43m)\u001B[49m\n\u001B[0;32m     54\u001B[0m \u001B[38;5;28;01mreturn\u001B[39;00m GeoSeries(geoms\u001B[38;5;241m.\u001B[39mdata, index\u001B[38;5;241m=\u001B[39mindex, crs\u001B[38;5;241m=\u001B[39mthis\u001B[38;5;241m.\u001B[39mcrs)\n",
      "File \u001B[1;32m~\\.conda\\envs\\DataEngineering\\lib\\site-packages\\geopandas\\base.py:44\u001B[0m, in \u001B[0;36m_delegate_binary_method\u001B[1;34m(op, this, other, align, *args, **kwargs)\u001B[0m\n\u001B[0;32m     41\u001B[0m \u001B[38;5;28;01melse\u001B[39;00m:\n\u001B[0;32m     42\u001B[0m     \u001B[38;5;28;01mraise\u001B[39;00m \u001B[38;5;167;01mTypeError\u001B[39;00m(\u001B[38;5;28mtype\u001B[39m(this), \u001B[38;5;28mtype\u001B[39m(other))\n\u001B[1;32m---> 44\u001B[0m data \u001B[38;5;241m=\u001B[39m \u001B[38;5;28;43mgetattr\u001B[39;49m\u001B[43m(\u001B[49m\u001B[43ma_this\u001B[49m\u001B[43m,\u001B[49m\u001B[43m \u001B[49m\u001B[43mop\u001B[49m\u001B[43m)\u001B[49m\u001B[43m(\u001B[49m\u001B[43mother\u001B[49m\u001B[43m,\u001B[49m\u001B[43m \u001B[49m\u001B[38;5;241;43m*\u001B[39;49m\u001B[43margs\u001B[49m\u001B[43m,\u001B[49m\u001B[43m \u001B[49m\u001B[38;5;241;43m*\u001B[39;49m\u001B[38;5;241;43m*\u001B[39;49m\u001B[43mkwargs\u001B[49m\u001B[43m)\u001B[49m\n\u001B[0;32m     45\u001B[0m \u001B[38;5;28;01mreturn\u001B[39;00m data, this\u001B[38;5;241m.\u001B[39mindex\n",
      "File \u001B[1;32m~\\.conda\\envs\\DataEngineering\\lib\\site-packages\\geopandas\\array.py:610\u001B[0m, in \u001B[0;36mGeometryArray.intersection\u001B[1;34m(self, other)\u001B[0m\n\u001B[0;32m    608\u001B[0m \u001B[38;5;28;01mdef\u001B[39;00m \u001B[38;5;21mintersection\u001B[39m(\u001B[38;5;28mself\u001B[39m, other):\n\u001B[0;32m    609\u001B[0m     \u001B[38;5;28;01mreturn\u001B[39;00m GeometryArray(\n\u001B[1;32m--> 610\u001B[0m         \u001B[38;5;28;43mself\u001B[39;49m\u001B[38;5;241;43m.\u001B[39;49m\u001B[43m_binary_method\u001B[49m\u001B[43m(\u001B[49m\u001B[38;5;124;43m\"\u001B[39;49m\u001B[38;5;124;43mintersection\u001B[39;49m\u001B[38;5;124;43m\"\u001B[39;49m\u001B[43m,\u001B[49m\u001B[43m \u001B[49m\u001B[38;5;28;43mself\u001B[39;49m\u001B[43m,\u001B[49m\u001B[43m \u001B[49m\u001B[43mother\u001B[49m\u001B[43m)\u001B[49m, crs\u001B[38;5;241m=\u001B[39m\u001B[38;5;28mself\u001B[39m\u001B[38;5;241m.\u001B[39mcrs\n\u001B[0;32m    611\u001B[0m     )\n",
      "File \u001B[1;32m~\\.conda\\envs\\DataEngineering\\lib\\site-packages\\geopandas\\array.py:542\u001B[0m, in \u001B[0;36mGeometryArray._binary_method\u001B[1;34m(op, left, right, **kwargs)\u001B[0m\n\u001B[0;32m    539\u001B[0m         _crs_mismatch_warn(left, right, stacklevel\u001B[38;5;241m=\u001B[39m\u001B[38;5;241m7\u001B[39m)\n\u001B[0;32m    540\u001B[0m     right \u001B[38;5;241m=\u001B[39m right\u001B[38;5;241m.\u001B[39mdata\n\u001B[1;32m--> 542\u001B[0m \u001B[38;5;28;01mreturn\u001B[39;00m \u001B[38;5;28;43mgetattr\u001B[39;49m\u001B[43m(\u001B[49m\u001B[43mvectorized\u001B[49m\u001B[43m,\u001B[49m\u001B[43m \u001B[49m\u001B[43mop\u001B[49m\u001B[43m)\u001B[49m\u001B[43m(\u001B[49m\u001B[43mleft\u001B[49m\u001B[38;5;241;43m.\u001B[39;49m\u001B[43mdata\u001B[49m\u001B[43m,\u001B[49m\u001B[43m \u001B[49m\u001B[43mright\u001B[49m\u001B[43m,\u001B[49m\u001B[43m \u001B[49m\u001B[38;5;241;43m*\u001B[39;49m\u001B[38;5;241;43m*\u001B[39;49m\u001B[43mkwargs\u001B[49m\u001B[43m)\u001B[49m\n",
      "File \u001B[1;32m~\\.conda\\envs\\DataEngineering\\lib\\site-packages\\geopandas\\_vectorized.py:735\u001B[0m, in \u001B[0;36mintersection\u001B[1;34m(data, other)\u001B[0m\n\u001B[0;32m    733\u001B[0m     \u001B[38;5;28;01mreturn\u001B[39;00m _binary_method(\u001B[38;5;124m\"\u001B[39m\u001B[38;5;124mintersection\u001B[39m\u001B[38;5;124m\"\u001B[39m, data, other)\n\u001B[0;32m    734\u001B[0m \u001B[38;5;28;01melse\u001B[39;00m:\n\u001B[1;32m--> 735\u001B[0m     \u001B[38;5;28;01mreturn\u001B[39;00m \u001B[43m_binary_geo\u001B[49m\u001B[43m(\u001B[49m\u001B[38;5;124;43m\"\u001B[39;49m\u001B[38;5;124;43mintersection\u001B[39;49m\u001B[38;5;124;43m\"\u001B[39;49m\u001B[43m,\u001B[49m\u001B[43m \u001B[49m\u001B[43mdata\u001B[49m\u001B[43m,\u001B[49m\u001B[43m \u001B[49m\u001B[43mother\u001B[49m\u001B[43m)\u001B[49m\n",
      "File \u001B[1;32m~\\.conda\\envs\\DataEngineering\\lib\\site-packages\\geopandas\\_vectorized.py:287\u001B[0m, in \u001B[0;36m_binary_geo\u001B[1;34m(op, left, right)\u001B[0m\n\u001B[0;32m    285\u001B[0m     data \u001B[38;5;241m=\u001B[39m np\u001B[38;5;241m.\u001B[39mempty(\u001B[38;5;28mlen\u001B[39m(left), dtype\u001B[38;5;241m=\u001B[39m\u001B[38;5;28mobject\u001B[39m)\n\u001B[0;32m    286\u001B[0m     \u001B[38;5;28;01mwith\u001B[39;00m compat\u001B[38;5;241m.\u001B[39mignore_shapely2_warnings():\n\u001B[1;32m--> 287\u001B[0m         data[:] \u001B[38;5;241m=\u001B[39m [\n\u001B[0;32m    288\u001B[0m             \u001B[38;5;28mgetattr\u001B[39m(s, op)(right) \u001B[38;5;28;01mif\u001B[39;00m s \u001B[38;5;129;01mis\u001B[39;00m \u001B[38;5;129;01mnot\u001B[39;00m \u001B[38;5;28;01mNone\u001B[39;00m \u001B[38;5;129;01mand\u001B[39;00m right \u001B[38;5;129;01mis\u001B[39;00m \u001B[38;5;129;01mnot\u001B[39;00m \u001B[38;5;28;01mNone\u001B[39;00m \u001B[38;5;28;01melse\u001B[39;00m \u001B[38;5;28;01mNone\u001B[39;00m\n\u001B[0;32m    289\u001B[0m             \u001B[38;5;28;01mfor\u001B[39;00m s \u001B[38;5;129;01min\u001B[39;00m left\n\u001B[0;32m    290\u001B[0m         ]\n\u001B[0;32m    291\u001B[0m     \u001B[38;5;28;01mreturn\u001B[39;00m data\n\u001B[0;32m    292\u001B[0m \u001B[38;5;28;01melif\u001B[39;00m \u001B[38;5;28misinstance\u001B[39m(right, np\u001B[38;5;241m.\u001B[39mndarray):\n",
      "File \u001B[1;32m~\\.conda\\envs\\DataEngineering\\lib\\site-packages\\geopandas\\_vectorized.py:288\u001B[0m, in \u001B[0;36m<listcomp>\u001B[1;34m(.0)\u001B[0m\n\u001B[0;32m    285\u001B[0m     data \u001B[38;5;241m=\u001B[39m np\u001B[38;5;241m.\u001B[39mempty(\u001B[38;5;28mlen\u001B[39m(left), dtype\u001B[38;5;241m=\u001B[39m\u001B[38;5;28mobject\u001B[39m)\n\u001B[0;32m    286\u001B[0m     \u001B[38;5;28;01mwith\u001B[39;00m compat\u001B[38;5;241m.\u001B[39mignore_shapely2_warnings():\n\u001B[0;32m    287\u001B[0m         data[:] \u001B[38;5;241m=\u001B[39m [\n\u001B[1;32m--> 288\u001B[0m             \u001B[38;5;28;43mgetattr\u001B[39;49m\u001B[43m(\u001B[49m\u001B[43ms\u001B[49m\u001B[43m,\u001B[49m\u001B[43m \u001B[49m\u001B[43mop\u001B[49m\u001B[43m)\u001B[49m\u001B[43m(\u001B[49m\u001B[43mright\u001B[49m\u001B[43m)\u001B[49m \u001B[38;5;28;01mif\u001B[39;00m s \u001B[38;5;129;01mis\u001B[39;00m \u001B[38;5;129;01mnot\u001B[39;00m \u001B[38;5;28;01mNone\u001B[39;00m \u001B[38;5;129;01mand\u001B[39;00m right \u001B[38;5;129;01mis\u001B[39;00m \u001B[38;5;129;01mnot\u001B[39;00m \u001B[38;5;28;01mNone\u001B[39;00m \u001B[38;5;28;01melse\u001B[39;00m \u001B[38;5;28;01mNone\u001B[39;00m\n\u001B[0;32m    289\u001B[0m             \u001B[38;5;28;01mfor\u001B[39;00m s \u001B[38;5;129;01min\u001B[39;00m left\n\u001B[0;32m    290\u001B[0m         ]\n\u001B[0;32m    291\u001B[0m     \u001B[38;5;28;01mreturn\u001B[39;00m data\n\u001B[0;32m    292\u001B[0m \u001B[38;5;28;01melif\u001B[39;00m \u001B[38;5;28misinstance\u001B[39m(right, np\u001B[38;5;241m.\u001B[39mndarray):\n",
      "File \u001B[1;32m~\\.conda\\envs\\DataEngineering\\lib\\site-packages\\shapely\\geometry\\base.py:676\u001B[0m, in \u001B[0;36mBaseGeometry.intersection\u001B[1;34m(self, other)\u001B[0m\n\u001B[0;32m    674\u001B[0m \u001B[38;5;28;01mdef\u001B[39;00m \u001B[38;5;21mintersection\u001B[39m(\u001B[38;5;28mself\u001B[39m, other):\n\u001B[0;32m    675\u001B[0m     \u001B[38;5;124;03m\"\"\"Returns the intersection of the geometries\"\"\"\u001B[39;00m\n\u001B[1;32m--> 676\u001B[0m     \u001B[38;5;28;01mreturn\u001B[39;00m \u001B[43mgeom_factory\u001B[49m\u001B[43m(\u001B[49m\u001B[38;5;28;43mself\u001B[39;49m\u001B[38;5;241;43m.\u001B[39;49m\u001B[43mimpl\u001B[49m\u001B[43m[\u001B[49m\u001B[38;5;124;43m'\u001B[39;49m\u001B[38;5;124;43mintersection\u001B[39;49m\u001B[38;5;124;43m'\u001B[39;49m\u001B[43m]\u001B[49m\u001B[43m(\u001B[49m\u001B[38;5;28;43mself\u001B[39;49m\u001B[43m,\u001B[49m\u001B[43m \u001B[49m\u001B[43mother\u001B[49m\u001B[43m)\u001B[49m\u001B[43m)\u001B[49m\n",
      "File \u001B[1;32m~\\.conda\\envs\\DataEngineering\\lib\\site-packages\\shapely\\geometry\\base.py:80\u001B[0m, in \u001B[0;36mgeom_factory\u001B[1;34m(g, parent)\u001B[0m\n\u001B[0;32m     78\u001B[0m     \u001B[38;5;28;01mraise\u001B[39;00m \u001B[38;5;167;01mValueError\u001B[39;00m(\u001B[38;5;124m\"\u001B[39m\u001B[38;5;124mNo Shapely geometry can be created from null value\u001B[39m\u001B[38;5;124m\"\u001B[39m)\n\u001B[0;32m     79\u001B[0m ob \u001B[38;5;241m=\u001B[39m BaseGeometry()\n\u001B[1;32m---> 80\u001B[0m geom_type \u001B[38;5;241m=\u001B[39m \u001B[43mgeometry_type_name\u001B[49m\u001B[43m(\u001B[49m\u001B[43mg\u001B[49m\u001B[43m)\u001B[49m\n\u001B[0;32m     81\u001B[0m \u001B[38;5;66;03m# TODO: check cost of dynamic import by profiling\u001B[39;00m\n\u001B[0;32m     82\u001B[0m mod \u001B[38;5;241m=\u001B[39m \u001B[38;5;28m__import__\u001B[39m(\n\u001B[0;32m     83\u001B[0m     \u001B[38;5;124m'\u001B[39m\u001B[38;5;124mshapely.geometry\u001B[39m\u001B[38;5;124m'\u001B[39m,\n\u001B[0;32m     84\u001B[0m     \u001B[38;5;28mglobals\u001B[39m(),\n\u001B[0;32m     85\u001B[0m     \u001B[38;5;28mlocals\u001B[39m(),\n\u001B[0;32m     86\u001B[0m     [geom_type],\n\u001B[0;32m     87\u001B[0m     )\n",
      "File \u001B[1;32m~\\.conda\\envs\\DataEngineering\\lib\\site-packages\\shapely\\geometry\\base.py:72\u001B[0m, in \u001B[0;36mgeometry_type_name\u001B[1;34m(g)\u001B[0m\n\u001B[0;32m     70\u001B[0m \u001B[38;5;28;01mif\u001B[39;00m g \u001B[38;5;129;01mis\u001B[39;00m \u001B[38;5;28;01mNone\u001B[39;00m:\n\u001B[0;32m     71\u001B[0m     \u001B[38;5;28;01mraise\u001B[39;00m \u001B[38;5;167;01mValueError\u001B[39;00m(\u001B[38;5;124m\"\u001B[39m\u001B[38;5;124mNull geometry has no type\u001B[39m\u001B[38;5;124m\"\u001B[39m)\n\u001B[1;32m---> 72\u001B[0m \u001B[38;5;28;01mreturn\u001B[39;00m GEOMETRY_TYPES[\u001B[43mlgeos\u001B[49m\u001B[38;5;241;43m.\u001B[39;49m\u001B[43mGEOSGeomTypeId\u001B[49m\u001B[43m(\u001B[49m\u001B[43mg\u001B[49m\u001B[43m)\u001B[49m]\n",
      "\u001B[1;31mKeyboardInterrupt\u001B[0m: "
     ]
    }
   ],
   "source": [
    "# the most important cell\n",
    "# calculates the shaded length of each street going tree by tree\n",
    "def calculate_shading(row):\n",
    "    return trees_shapes.intersection(row['geometry']).length.sum()\n",
    "\n",
    "streets_df['shaded_length'] = streets_df.apply(calculate_shading, axis=1)"
   ],
   "metadata": {
    "collapsed": false,
    "pycharm": {
     "name": "#%%\n"
    }
   }
  },
  {
   "cell_type": "code",
   "execution_count": null,
   "metadata": {
    "pycharm": {
     "name": "#%%\n"
    }
   },
   "outputs": [],
   "source": [
    "# calculating the percentage\n",
    "streets_df['shaded_percent'] = streets_df['shaded_length'] / streets_df['length']"
   ]
  },
  {
   "cell_type": "code",
   "execution_count": null,
   "outputs": [],
   "source": [
    "# saving data\n",
    "streets_df.to_csv(\"../data/streets_data_shaded.csv\")"
   ],
   "metadata": {
    "collapsed": false,
    "pycharm": {
     "name": "#%%\n"
    }
   }
  }
 ],
 "metadata": {
  "kernelspec": {
   "display_name": "Python 3 (ipykernel)",
   "language": "python",
   "name": "python3"
  },
  "language_info": {
   "codemirror_mode": {
    "name": "ipython",
    "version": 3
   },
   "file_extension": ".py",
   "mimetype": "text/x-python",
   "name": "python",
   "nbconvert_exporter": "python",
   "pygments_lexer": "ipython3",
   "version": "3.8.13"
  }
 },
 "nbformat": 4,
 "nbformat_minor": 1
}