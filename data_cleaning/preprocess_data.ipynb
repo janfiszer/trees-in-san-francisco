{
 "cells": [
  {
   "cell_type": "code",
   "execution_count": 37,
   "metadata": {
    "collapsed": false,
    "pycharm": {
     "name": "#%%\n"
    }
   },
   "outputs": [],
   "source": [
    "import numpy as np\n",
    "import pandas as pd\n",
    "import geopandas as gpd"
   ]
  },
  {
   "cell_type": "markdown",
   "metadata": {
    "collapsed": false,
    "pycharm": {
     "name": "#%% md\n"
    }
   },
   "source": [
    "## Loading data with already calculated shading"
   ]
  },
  {
   "cell_type": "code",
   "execution_count": 38,
   "metadata": {
    "collapsed": false,
    "pycharm": {
     "name": "#%%\n"
    }
   },
   "outputs": [
    {
     "name": "stderr",
     "output_type": "stream",
     "text": [
      "C:\\Users\\JF\\AppData\\Local\\Temp\\ipykernel_16756\\1412384957.py:1: DtypeWarning: Columns (3,5,6,8,9,11,12,13,14,15,16,17,19,20,21,22,23,24,25,26,27,28,29,30,31,32,33,34,39,40,41,42,43,45,46,47,48,49,50,51,52,53,54,56,57,58,60,61,65,66,67,70,76,81,82,83,84,86,87,88,89,90,91,92,93,94,95,96,97,98,99,100,101,102,103,104,105,106,107,108,109,110,111,112,113,114,116,118,119,120,121,122,123,124,125,126,127,128,129,130,131,132,133,134,135,136,137,138,139,140,141,142,143,144,145,146,147,148,150,151,152,153,154,155,156,157,158,159,161,162,163,164,165,166,167,168,169,170,171,172,173,174,175,176,177,178,179,180,181,182,183,185,186,187,188,189,190,191,192,193,194,195,196,197,198,199,200,202,203,204,205,206,207,208,209,210,211,212,213,214,215,216,217,218,219,220,221,222,223,225,227,228,229,230,231,232,233,235,236,237,239,240,242,243,244,245,246,247,248,250,251,254,255,256,257,258,259,260,261,262,263,264,265,266,267,268,269,270,271,272,273,274,275,276,277,278,279,280,281,282,283,284,285,286,287,288,289,290,292,294,295,296,297,298,299,300,303,304,305,306,307,308,309,310,311,312,313,314,315,316,317,318,319,320,321,322,323,324,325,326,327,328,329,330,331,332,333,334,335) have mixed types. Specify dtype option on import or set low_memory=False.\n",
      "  streets_dataframe = pd.read_csv(\"../data/streets_data_shaded.csv\")\n"
     ]
    }
   ],
   "source": [
    "streets_dataframe = pd.read_csv(\"../data/streets_data_shaded.csv\")\n",
    "streets_geodataframe = gpd.GeoDataFrame(\n",
    "    streets_dataframe.loc[:, [c for c in streets_dataframe.columns if c != \"geometry\"]],\n",
    "    geometry=gpd.GeoSeries.from_wkt(streets_dataframe[\"geometry\"]),\n",
    "    crs=\"EPSG:4326\", # WGS84\n",
    ")"
   ]
  },
  {
   "cell_type": "markdown",
   "metadata": {
    "collapsed": false,
    "pycharm": {
     "name": "#%% md\n"
    }
   },
   "source": [
    "## Picking columns which contain at least 2% of not NaN values\n",
    "Number over 300 columns force us to filter them before analyzing one by one. A column filled with 98% of `Nans` isn't very useful. There are several ways to deal with the `NaN` values (our idea described later on), but can't be 100% sure what some `Nan` should be replaced for. Dropping those columns also reduces the complexity of the future model. And last but not least it saves a lot of time."
   ]
  },
  {
   "cell_type": "code",
   "execution_count": 39,
   "metadata": {
    "collapsed": false,
    "pycharm": {
     "name": "#%%\n"
    }
   },
   "outputs": [],
   "source": [
    "# 0.02 explained below\n",
    "how_many_nans_to_drop = int(0.02 * len(streets_geodataframe))\n",
    "\n",
    "streets_geodataframe_valid_cols = streets_geodataframe.dropna(axis=1, thresh=how_many_nans_to_drop)"
   ]
  },
  {
   "cell_type": "code",
   "execution_count": 40,
   "metadata": {
    "collapsed": false,
    "pycharm": {
     "name": "#%%\n"
    }
   },
   "outputs": [
    {
     "data": {
      "text/plain": "  element_type    osmid      highway     ref access                name  \\\n0          way  5004035  residential     NaN    NaN      Macondray Lane   \n1          way  5071582     motorway  US 101    NaN  James Lick Freeway   \n2          way  7373728  residential     NaN    NaN          6th Street   \n3          way  7373736  residential     NaN    NaN      Bluxome Street   \n4          way  7448875  residential     NaN    NaN  Nelson Rising Lane   \n\n  cycleway bicycle foot   surface  ...  lanes:forward lcn_ref cycleway:right  \\\n0      NaN     NaN  NaN       NaN  ...            NaN     NaN            NaN   \n1      NaN      no  NaN  concrete  ...            NaN     NaN            NaN   \n2      NaN     NaN  NaN       NaN  ...            NaN     NaN            NaN   \n3      NaN     NaN  NaN       NaN  ...            NaN     NaN            NaN   \n4      NaN     NaN  NaN       NaN  ...            NaN     NaN            NaN   \n\n  turn:lanes tiger:name_base_1 trolley_wire    length shaded_length  \\\n0        NaN               NaN          NaN  0.000851      0.000000   \n1        NaN               NaN          NaN  0.002131      0.000000   \n2        NaN               NaN          NaN  0.000986      0.000192   \n3        NaN               NaN          NaN  0.005475      0.000000   \n4        NaN               NaN          NaN  0.001665      0.000000   \n\n  shaded_percent                                           geometry  \n0        0.00000  LINESTRING (-122.41648 37.79905, -122.41733 37...  \n1        0.00000  LINESTRING (-122.39889 37.71689, -122.39893 37...  \n2        0.19462  LINESTRING (-122.40013 37.77428, -122.40014 37...  \n3        0.00000  LINESTRING (-122.40013 37.77428, -122.39943 37...  \n4        0.00000  LINESTRING (-122.39110 37.76967, -122.39123 37...  \n\n[5 rows x 36 columns]",
      "text/html": "<div>\n<style scoped>\n    .dataframe tbody tr th:only-of-type {\n        vertical-align: middle;\n    }\n\n    .dataframe tbody tr th {\n        vertical-align: top;\n    }\n\n    .dataframe thead th {\n        text-align: right;\n    }\n</style>\n<table border=\"1\" class=\"dataframe\">\n  <thead>\n    <tr style=\"text-align: right;\">\n      <th></th>\n      <th>element_type</th>\n      <th>osmid</th>\n      <th>highway</th>\n      <th>ref</th>\n      <th>access</th>\n      <th>name</th>\n      <th>cycleway</th>\n      <th>bicycle</th>\n      <th>foot</th>\n      <th>surface</th>\n      <th>...</th>\n      <th>lanes:forward</th>\n      <th>lcn_ref</th>\n      <th>cycleway:right</th>\n      <th>turn:lanes</th>\n      <th>tiger:name_base_1</th>\n      <th>trolley_wire</th>\n      <th>length</th>\n      <th>shaded_length</th>\n      <th>shaded_percent</th>\n      <th>geometry</th>\n    </tr>\n  </thead>\n  <tbody>\n    <tr>\n      <th>0</th>\n      <td>way</td>\n      <td>5004035</td>\n      <td>residential</td>\n      <td>NaN</td>\n      <td>NaN</td>\n      <td>Macondray Lane</td>\n      <td>NaN</td>\n      <td>NaN</td>\n      <td>NaN</td>\n      <td>NaN</td>\n      <td>...</td>\n      <td>NaN</td>\n      <td>NaN</td>\n      <td>NaN</td>\n      <td>NaN</td>\n      <td>NaN</td>\n      <td>NaN</td>\n      <td>0.000851</td>\n      <td>0.000000</td>\n      <td>0.00000</td>\n      <td>LINESTRING (-122.41648 37.79905, -122.41733 37...</td>\n    </tr>\n    <tr>\n      <th>1</th>\n      <td>way</td>\n      <td>5071582</td>\n      <td>motorway</td>\n      <td>US 101</td>\n      <td>NaN</td>\n      <td>James Lick Freeway</td>\n      <td>NaN</td>\n      <td>no</td>\n      <td>NaN</td>\n      <td>concrete</td>\n      <td>...</td>\n      <td>NaN</td>\n      <td>NaN</td>\n      <td>NaN</td>\n      <td>NaN</td>\n      <td>NaN</td>\n      <td>NaN</td>\n      <td>0.002131</td>\n      <td>0.000000</td>\n      <td>0.00000</td>\n      <td>LINESTRING (-122.39889 37.71689, -122.39893 37...</td>\n    </tr>\n    <tr>\n      <th>2</th>\n      <td>way</td>\n      <td>7373728</td>\n      <td>residential</td>\n      <td>NaN</td>\n      <td>NaN</td>\n      <td>6th Street</td>\n      <td>NaN</td>\n      <td>NaN</td>\n      <td>NaN</td>\n      <td>NaN</td>\n      <td>...</td>\n      <td>NaN</td>\n      <td>NaN</td>\n      <td>NaN</td>\n      <td>NaN</td>\n      <td>NaN</td>\n      <td>NaN</td>\n      <td>0.000986</td>\n      <td>0.000192</td>\n      <td>0.19462</td>\n      <td>LINESTRING (-122.40013 37.77428, -122.40014 37...</td>\n    </tr>\n    <tr>\n      <th>3</th>\n      <td>way</td>\n      <td>7373736</td>\n      <td>residential</td>\n      <td>NaN</td>\n      <td>NaN</td>\n      <td>Bluxome Street</td>\n      <td>NaN</td>\n      <td>NaN</td>\n      <td>NaN</td>\n      <td>NaN</td>\n      <td>...</td>\n      <td>NaN</td>\n      <td>NaN</td>\n      <td>NaN</td>\n      <td>NaN</td>\n      <td>NaN</td>\n      <td>NaN</td>\n      <td>0.005475</td>\n      <td>0.000000</td>\n      <td>0.00000</td>\n      <td>LINESTRING (-122.40013 37.77428, -122.39943 37...</td>\n    </tr>\n    <tr>\n      <th>4</th>\n      <td>way</td>\n      <td>7448875</td>\n      <td>residential</td>\n      <td>NaN</td>\n      <td>NaN</td>\n      <td>Nelson Rising Lane</td>\n      <td>NaN</td>\n      <td>NaN</td>\n      <td>NaN</td>\n      <td>NaN</td>\n      <td>...</td>\n      <td>NaN</td>\n      <td>NaN</td>\n      <td>NaN</td>\n      <td>NaN</td>\n      <td>NaN</td>\n      <td>NaN</td>\n      <td>0.001665</td>\n      <td>0.000000</td>\n      <td>0.00000</td>\n      <td>LINESTRING (-122.39110 37.76967, -122.39123 37...</td>\n    </tr>\n  </tbody>\n</table>\n<p>5 rows × 36 columns</p>\n</div>"
     },
     "execution_count": 40,
     "metadata": {},
     "output_type": "execute_result"
    }
   ],
   "source": [
    "streets_geodataframe_valid_cols.head()"
   ]
  },
  {
   "cell_type": "markdown",
   "source": [
    "### Where does 2% came from\n",
    "This is how we chose the 2 value"
   ],
   "metadata": {
    "collapsed": false
   }
  },
  {
   "cell_type": "code",
   "execution_count": 41,
   "outputs": [],
   "source": [
    "percent_missing = streets_geodataframe.isnull().sum() * 100 / len(streets_geodataframe)\n",
    "missing_value_df = pd.DataFrame({'column_name': streets_geodataframe.columns,\n",
    "                                 'percent_missing': percent_missing})\n",
    "\n",
    "percent_possible = np.linspace(1, 100, 100)\n",
    "\n",
    "columns_quantities = []\n",
    "\n",
    "for percent in percent_possible:\n",
    "    more_than = missing_value_df.percent_missing > percent\n",
    "    columns_quantities.append(more_than.sum())"
   ],
   "metadata": {
    "collapsed": false,
    "pycharm": {
     "name": "#%%\n"
    }
   }
  },
  {
   "cell_type": "code",
   "execution_count": 42,
   "outputs": [
    {
     "data": {
      "text/plain": "[<matplotlib.lines.Line2D at 0x1b01a430670>]"
     },
     "execution_count": 42,
     "metadata": {},
     "output_type": "execute_result"
    },
    {
     "data": {
      "text/plain": "<Figure size 1440x720 with 1 Axes>",
      "image/png": "[encoded data removed]"
     },
     "metadata": {
      "needs_background": "light"
     },
     "output_type": "display_data"
    }
   ],
   "source": [
    "import matplotlib.pyplot as plt\n",
    "\n",
    "plt.figure(figsize=(20,10))\n",
    "plt.xticks(percent_possible[1::2])\n",
    "plt.grid()\n",
    "\n",
    "plt.xlabel(\"minimum percent of NaNs to qualify column\")\n",
    "plt.ylabel(\"columns quantity\")\n",
    "plt.title(\"Amount of columns with al least x% of values being NaN\")\n",
    "\n",
    "plt.plot(percent_possible, columns_quantities)"
   ],
   "metadata": {
    "collapsed": false,
    "pycharm": {
     "name": "#%%\n"
    }
   }
  },
  {
   "cell_type": "markdown",
   "source": [
    "There is visible drop (an elbow on the plot) after exceeding the 98%. To not drop too many columns we have chosen that value."
   ],
   "metadata": {
    "collapsed": false
   }
  },
  {
   "cell_type": "markdown",
   "metadata": {
    "collapsed": false,
    "pycharm": {
     "name": "#%% md\n"
    }
   },
   "source": [
    "## Removing columns which we can not use for machine learning algorithms"
   ]
  },
  {
   "cell_type": "code",
   "execution_count": 43,
   "metadata": {
    "collapsed": false,
    "pycharm": {
     "name": "#%%\n"
    }
   },
   "outputs": [
    {
     "data": {
      "text/plain": "       highway access cycleway bicycle foot   surface oneway  lit maxspeed  \\\n0  residential    NaN      NaN     NaN  NaN       NaN    NaN  NaN      NaN   \n1     motorway    NaN      NaN      no  NaN  concrete    yes  NaN   55 mph   \n2  residential    NaN      NaN     NaN  NaN       NaN    NaN  NaN      NaN   \n3  residential    NaN      NaN     NaN  NaN       NaN    NaN  NaN      NaN   \n4  residential    NaN      NaN     NaN  NaN       NaN    NaN  NaN      NaN   \n\n          hgv  lanes sidewalk service trolley_wire    length  shaded_length  \\\n0         NaN    NaN      NaN     NaN          NaN  0.000851       0.000000   \n1  designated    5.0      NaN     NaN          NaN  0.002131       0.000000   \n2         NaN    NaN      NaN     NaN          NaN  0.000986       0.000192   \n3         NaN    NaN      NaN     NaN          NaN  0.005475       0.000000   \n4         NaN    NaN      NaN     NaN          NaN  0.001665       0.000000   \n\n   shaded_percent                                           geometry  \n0         0.00000  LINESTRING (-122.41648 37.79905, -122.41733 37...  \n1         0.00000  LINESTRING (-122.39889 37.71689, -122.39893 37...  \n2         0.19462  LINESTRING (-122.40013 37.77428, -122.40014 37...  \n3         0.00000  LINESTRING (-122.40013 37.77428, -122.39943 37...  \n4         0.00000  LINESTRING (-122.39110 37.76967, -122.39123 37...  ",
      "text/html": "<div>\n<style scoped>\n    .dataframe tbody tr th:only-of-type {\n        vertical-align: middle;\n    }\n\n    .dataframe tbody tr th {\n        vertical-align: top;\n    }\n\n    .dataframe thead th {\n        text-align: right;\n    }\n</style>\n<table border=\"1\" class=\"dataframe\">\n  <thead>\n    <tr style=\"text-align: right;\">\n      <th></th>\n      <th>highway</th>\n      <th>access</th>\n      <th>cycleway</th>\n      <th>bicycle</th>\n      <th>foot</th>\n      <th>surface</th>\n      <th>oneway</th>\n      <th>lit</th>\n      <th>maxspeed</th>\n      <th>hgv</th>\n      <th>lanes</th>\n      <th>sidewalk</th>\n      <th>service</th>\n      <th>trolley_wire</th>\n      <th>length</th>\n      <th>shaded_length</th>\n      <th>shaded_percent</th>\n      <th>geometry</th>\n    </tr>\n  </thead>\n  <tbody>\n    <tr>\n      <th>0</th>\n      <td>residential</td>\n      <td>NaN</td>\n      <td>NaN</td>\n      <td>NaN</td>\n      <td>NaN</td>\n      <td>NaN</td>\n      <td>NaN</td>\n      <td>NaN</td>\n      <td>NaN</td>\n      <td>NaN</td>\n      <td>NaN</td>\n      <td>NaN</td>\n      <td>NaN</td>\n      <td>NaN</td>\n      <td>0.000851</td>\n      <td>0.000000</td>\n      <td>0.00000</td>\n      <td>LINESTRING (-122.41648 37.79905, -122.41733 37...</td>\n    </tr>\n    <tr>\n      <th>1</th>\n      <td>motorway</td>\n      <td>NaN</td>\n      <td>NaN</td>\n      <td>no</td>\n      <td>NaN</td>\n      <td>concrete</td>\n      <td>yes</td>\n      <td>NaN</td>\n      <td>55 mph</td>\n      <td>designated</td>\n      <td>5.0</td>\n      <td>NaN</td>\n      <td>NaN</td>\n      <td>NaN</td>\n      <td>0.002131</td>\n      <td>0.000000</td>\n      <td>0.00000</td>\n      <td>LINESTRING (-122.39889 37.71689, -122.39893 37...</td>\n    </tr>\n    <tr>\n      <th>2</th>\n      <td>residential</td>\n      <td>NaN</td>\n      <td>NaN</td>\n      <td>NaN</td>\n      <td>NaN</td>\n      <td>NaN</td>\n      <td>NaN</td>\n      <td>NaN</td>\n      <td>NaN</td>\n      <td>NaN</td>\n      <td>NaN</td>\n      <td>NaN</td>\n      <td>NaN</td>\n      <td>NaN</td>\n      <td>0.000986</td>\n      <td>0.000192</td>\n      <td>0.19462</td>\n      <td>LINESTRING (-122.40013 37.77428, -122.40014 37...</td>\n    </tr>\n    <tr>\n      <th>3</th>\n      <td>residential</td>\n      <td>NaN</td>\n      <td>NaN</td>\n      <td>NaN</td>\n      <td>NaN</td>\n      <td>NaN</td>\n      <td>NaN</td>\n      <td>NaN</td>\n      <td>NaN</td>\n      <td>NaN</td>\n      <td>NaN</td>\n      <td>NaN</td>\n      <td>NaN</td>\n      <td>NaN</td>\n      <td>0.005475</td>\n      <td>0.000000</td>\n      <td>0.00000</td>\n      <td>LINESTRING (-122.40013 37.77428, -122.39943 37...</td>\n    </tr>\n    <tr>\n      <th>4</th>\n      <td>residential</td>\n      <td>NaN</td>\n      <td>NaN</td>\n      <td>NaN</td>\n      <td>NaN</td>\n      <td>NaN</td>\n      <td>NaN</td>\n      <td>NaN</td>\n      <td>NaN</td>\n      <td>NaN</td>\n      <td>NaN</td>\n      <td>NaN</td>\n      <td>NaN</td>\n      <td>NaN</td>\n      <td>0.001665</td>\n      <td>0.000000</td>\n      <td>0.00000</td>\n      <td>LINESTRING (-122.39110 37.76967, -122.39123 37...</td>\n    </tr>\n  </tbody>\n</table>\n</div>"
     },
     "execution_count": 43,
     "metadata": {},
     "output_type": "execute_result"
    }
   ],
   "source": [
    "columns_to_remove = [\n",
    "    'element_type',  # Every element_type is equal to OSM way\n",
    "    'osmid',  # osmid does not provide any information to the model\n",
    "    'ref',  # official code of street does not provide any information to the model\n",
    "    'name',  # string name of street is not useful for model\n",
    "    'nodes',  # list of ids can not be used for regression / classification model\n",
    "    'name:etymology:wikidata',  # wiki name of street is not useful for model\n",
    "    'tiger:cfcc',  # reference to other database  https://wiki.openstreetmap.org/wiki/TIGER_2005\n",
    "    'tiger:county',  # reference to other database  https://wiki.openstreetmap.org/wiki/TIGER_2005\n",
    "    'tiger:name_base',  # reference to other database  https://wiki.openstreetmap.org/wiki/TIGER_2005\n",
    "    'tiger:name_type',  # reference to other database  https://wiki.openstreetmap.org/wiki/TIGER_2005\n",
    "    'tiger:reviewed',  # reference to other database  https://wiki.openstreetmap.org/wiki/TIGER_2005\n",
    "    'lanes:backward',  # repetition from column: 'oneway'\n",
    "    'lanes:forward',  # repetition from column: 'oneway'\n",
    "    'lcn_ref',  # code of bike lane, not useful for model\n",
    "    'cycleway:right',  # does not matter on which side cycleway is\n",
    "    'turn:lanes',  # information from which lane we can turn does not help the model predict shading\n",
    "    'tiger:name_base_1',  # reference to other database  https://wiki.openstreetmap.org/wiki/TIGER_2005\n",
    "    'layer'  # This column is misleading for regression / classification models as its value is contextual with other elements of neighbourhood\n",
    "]\n",
    "streets_gdf_usefull_cols = streets_geodataframe_valid_cols.drop(columns_to_remove, axis=1)\n",
    "streets_gdf_usefull_cols.head()"
   ]
  },
  {
   "cell_type": "markdown",
   "metadata": {
    "collapsed": false,
    "pycharm": {
     "name": "#%% md\n"
    }
   },
   "source": [
    "## Adding centers of the street as additional columns for the model\n",
    "Since later on we're going to drop the geometry column (for obvious reasons), we are transforming it into more useful data."
   ]
  },
  {
   "cell_type": "code",
   "execution_count": 44,
   "metadata": {
    "collapsed": false,
    "pycharm": {
     "name": "#%%\n"
    }
   },
   "outputs": [
    {
     "name": "stderr",
     "output_type": "stream",
     "text": [
      "C:\\Users\\JF\\AppData\\Local\\Temp\\ipykernel_16756\\1328765700.py:1: UserWarning: Geometry is in a geographic CRS. Results from 'centroid' are likely incorrect. Use 'GeoSeries.to_crs()' to re-project geometries to a projected CRS before this operation.\n",
      "\n",
      "  streets_gdf_usefull_cols['center'] = streets_gdf_usefull_cols.geometry.centroid\n"
     ]
    }
   ],
   "source": [
    "streets_gdf_usefull_cols['center'] = streets_gdf_usefull_cols.geometry.centroid\n",
    "streets_gdf_usefull_cols['x'] = streets_gdf_usefull_cols['center'].x\n",
    "streets_gdf_usefull_cols['y'] = streets_gdf_usefull_cols['center'].y"
   ]
  },
  {
   "cell_type": "markdown",
   "metadata": {
    "collapsed": false,
    "pycharm": {
     "name": "#%% md\n"
    }
   },
   "source": [
    "## Filling missing values\n",
    "Even after dropping some columns our data still has a lot of `NaNs`. We are going to deal with them in 3 ways:\n",
    "- basing on the OSM wiki, replace `NaN` with a representation used in a different cell of the checked column,  e.g. `streets_gdf_usefull_cols.access.fillna(\"yes\", inplace=True)`\n",
    "- leave the `Nans` as they are and then by using `pd.get_dummies(dummy_na=False)` (it is set to false by default) we get one hot with only zeros\n",
    "- delete a column (previously reconsidering its value to the model)\n",
    "\n",
    "Which scenario we choose depends on:\n",
    "- what `.value_counts()` returns\n",
    "- OSM wiki of each tag\n",
    "- how a `NaN` correspond with other properties\n",
    "\n",
    "Going through all the columns leaves us with ready to \"get dummy\" columns."
   ]
  },
  {
   "cell_type": "markdown",
   "metadata": {
    "collapsed": false,
    "pycharm": {
     "name": "#%% md\n"
    }
   },
   "source": [
    "### Access\n",
    "Describes restrictions on the use of highways and other transportation routes (see: https://wiki.openstreetmap.org/wiki/Key:access)"
   ]
  },
  {
   "cell_type": "code",
   "execution_count": 45,
   "metadata": {
    "collapsed": false,
    "pycharm": {
     "name": "#%%\n"
    }
   },
   "outputs": [
    {
     "data": {
      "text/plain": "private        943\nno             305\ndestination    180\ncustomers      112\npermissive      58\nyes             14\nunknown          3\ndesignated       2\nemergency        2\npermit           1\ndelivery         1\nName: access, dtype: int64"
     },
     "execution_count": 45,
     "metadata": {},
     "output_type": "execute_result"
    }
   ],
   "source": [
    "streets_gdf_usefull_cols.access.value_counts()"
   ]
  },
  {
   "cell_type": "code",
   "execution_count": 46,
   "metadata": {
    "collapsed": false,
    "pycharm": {
     "name": "#%%\n"
    }
   },
   "outputs": [],
   "source": [
    "# if it isn't provided the way is accessible\n",
    "streets_gdf_usefull_cols.access.replace(\"unknown\", None, inplace=True)\n",
    "streets_gdf_usefull_cols.access.fillna(\"yes\", inplace=True)"
   ]
  },
  {
   "cell_type": "markdown",
   "metadata": {
    "collapsed": false,
    "pycharm": {
     "name": "#%% md\n"
    }
   },
   "source": [
    "### Cycleway\n",
    "Maps cycling infrastructure that is an inherent part of the road (see: https://wiki.openstreetmap.org/wiki/Key:cycleway)"
   ]
  },
  {
   "cell_type": "code",
   "execution_count": 47,
   "metadata": {
    "collapsed": false,
    "pycharm": {
     "name": "#%%\n"
    }
   },
   "outputs": [
    {
     "data": {
      "text/plain": "shared_lane    658\nlane           487\ntrack          104\nno              53\nseparate        14\ncrossing         9\nName: cycleway, dtype: int64"
     },
     "execution_count": 47,
     "metadata": {},
     "output_type": "execute_result"
    }
   ],
   "source": [
    "streets_gdf_usefull_cols.cycleway.value_counts()"
   ]
  },
  {
   "cell_type": "code",
   "execution_count": 73,
   "metadata": {
    "collapsed": false,
    "pycharm": {
     "name": "#%%\n"
    }
   },
   "outputs": [],
   "source": [
    "# if it isn't provided we assume there is no cycleway\n",
    "streets_gdf_usefull_cols.cycleway.fillna(\"no\", inplace=True)"
   ]
  },
  {
   "cell_type": "markdown",
   "metadata": {
    "collapsed": false,
    "pycharm": {
     "name": "#%% md\n"
    }
   },
   "source": [
    "### Bicycle\n",
    "Describes legal restriction for cyclists (see: https://wiki.openstreetmap.org/wiki/Key:bicycle)"
   ]
  },
  {
   "cell_type": "code",
   "execution_count": 49,
   "metadata": {
    "collapsed": false,
    "pycharm": {
     "name": "#%%\n"
    }
   },
   "outputs": [
    {
     "data": {
      "text/plain": "no             560\nyes            554\ndesignated     354\nprivate         15\ndismount         5\ndiscouraged      1\nName: bicycle, dtype: int64"
     },
     "execution_count": 49,
     "metadata": {},
     "output_type": "execute_result"
    }
   ],
   "source": [
    "streets_gdf_usefull_cols.bicycle.value_counts()"
   ]
  },
  {
   "cell_type": "markdown",
   "metadata": {},
   "source": [
    "Leaving nones as they are because we can't say what they represent, they are ambiguous."
   ]
  },
  {
   "cell_type": "markdown",
   "metadata": {
    "collapsed": false,
    "pycharm": {
     "name": "#%% md\n"
    }
   },
   "source": [
    "### Foot\n",
    "Describes legal restriction for pedestians (see: https://wiki.openstreetmap.org/wiki/Key:foot)"
   ]
  },
  {
   "cell_type": "code",
   "execution_count": 50,
   "metadata": {
    "collapsed": false,
    "pycharm": {
     "name": "#%%\n"
    }
   },
   "outputs": [
    {
     "data": {
      "text/plain": "yes           593\nno            487\ndesignated    159\nprivate         9\npermissive      7\nName: foot, dtype: int64"
     },
     "execution_count": 50,
     "metadata": {},
     "output_type": "execute_result"
    }
   ],
   "source": [
    "streets_gdf_usefull_cols.foot.value_counts()"
   ]
  },
  {
   "cell_type": "markdown",
   "source": [
    "Using googlemaps we have checked whether the streets have pavements (by searching it by name) and how it corresponds with yes and no values"
   ],
   "metadata": {
    "collapsed": false
   }
  },
  {
   "cell_type": "code",
   "execution_count": 51,
   "metadata": {
    "collapsed": false,
    "pycharm": {
     "name": "#%%\n"
    }
   },
   "outputs": [
    {
     "data": {
      "text/plain": "83                             NaN\n314                  Gorgas Avenue\n351                    Whiting Way\n411        Lake Merced Hill Street\n614                  Jessie Street\n                   ...            \n21522        South Van Ness Avenue\n21545                 Perry Street\n21577    John F. Kennedy Promenade\n21604            Skyline Boulevard\n21609               Lombard Street\nName: name, Length: 593, dtype: object"
     },
     "execution_count": 51,
     "metadata": {},
     "output_type": "execute_result"
    }
   ],
   "source": [
    "foot_yes_df = streets_geodataframe[streets_gdf_usefull_cols.foot == \"yes\"]\n",
    "foot_yes_df.name"
   ]
  },
  {
   "cell_type": "code",
   "execution_count": 52,
   "metadata": {
    "collapsed": false,
    "pycharm": {
     "name": "#%%\n"
    }
   },
   "outputs": [
    {
     "data": {
      "text/plain": "67                         NaN\n68                         NaN\n95                         NaN\n97                         NaN\n162                        NaN\n                 ...          \n21515      Cesar Chavez Street\n21564    John F. Kennedy Drive\n21565                      NaN\n21605             Harding Road\n21607             Harding Road\nName: name, Length: 487, dtype: object"
     },
     "execution_count": 52,
     "metadata": {},
     "output_type": "execute_result"
    }
   ],
   "source": [
    "foot_no_df = streets_geodataframe[streets_gdf_usefull_cols.foot == \"no\"]\n",
    "foot_no_df.name"
   ]
  },
  {
   "cell_type": "markdown",
   "metadata": {
    "collapsed": false,
    "pycharm": {
     "name": "#%% md\n"
    }
   },
   "source": [
    "There was no correlation, so we are leaving nones as they are because we can't say what they represent, they are ambiguous."
   ]
  },
  {
   "cell_type": "markdown",
   "metadata": {},
   "source": [
    "### Layer\n",
    "After reading its wiki again and analyzing the amount of `nan` values, the decision is simple- delete the column from dataFrame. Added to `columns_to_remove[]`"
   ]
  },
  {
   "cell_type": "markdown",
   "metadata": {
    "collapsed": false,
    "pycharm": {
     "name": "#%% md\n"
    }
   },
   "source": [
    "### Surface\n",
    "Specifies the surface of the street (see: https://wiki.openstreetmap.org/wiki/Key:surface)"
   ]
  },
  {
   "cell_type": "code",
   "execution_count": 53,
   "metadata": {
    "collapsed": false,
    "pycharm": {
     "name": "#%%\n"
    }
   },
   "outputs": [
    {
     "data": {
      "text/plain": "asphalt            4874\nconcrete            385\npaved               318\ndirt                155\nunpaved              52\nground               46\ncompacted            35\nconcrete:plates      27\npaving_stones        26\ngravel               13\nsand                 11\nwood                 11\nbrick                 8\nmetal                 5\n2                     5\npebblestone           5\nwoodchips             2\nfine_gravel           2\nbricks                2\ndirt/sand             1\ncobblestone           1\ngrass                 1\ndirt;sand             1\nConcrete              1\n1                     1\nName: surface, dtype: int64"
     },
     "execution_count": 53,
     "metadata": {},
     "output_type": "execute_result"
    }
   ],
   "source": [
    "streets_gdf_usefull_cols.surface.value_counts()"
   ]
  },
  {
   "cell_type": "code",
   "execution_count": 54,
   "metadata": {
    "collapsed": false,
    "pycharm": {
     "name": "#%%\n"
    }
   },
   "outputs": [],
   "source": [
    "# if it isn't provided we assume that a way has an asphalt surface\n",
    "streets_gdf_usefull_cols.surface.fillna(\"asphalt\", inplace=True)"
   ]
  },
  {
   "cell_type": "markdown",
   "metadata": {
    "collapsed": false,
    "pycharm": {
     "name": "#%% md\n"
    }
   },
   "source": [
    "### Trolley wire\n",
    "Says whether there are any trolleybus wires above the road (see: https://wiki.openstreetmap.org/wiki/Key:trolley_wire)"
   ]
  },
  {
   "cell_type": "code",
   "execution_count": 55,
   "metadata": {
    "collapsed": false,
    "pycharm": {
     "name": "#%%\n"
    }
   },
   "outputs": [
    {
     "data": {
      "text/plain": "yes    1562\nno       39\nName: trolley_wire, dtype: int64"
     },
     "execution_count": 55,
     "metadata": {},
     "output_type": "execute_result"
    }
   ],
   "source": [
    "streets_gdf_usefull_cols.trolley_wire.value_counts()"
   ]
  },
  {
   "cell_type": "code",
   "execution_count": 56,
   "metadata": {
    "collapsed": false,
    "pycharm": {
     "name": "#%%\n"
    }
   },
   "outputs": [],
   "source": [
    "#if it isn't provided there are no wires\n",
    "streets_gdf_usefull_cols.trolley_wire.fillna(\"no\", inplace=True)"
   ]
  },
  {
   "cell_type": "markdown",
   "metadata": {
    "collapsed": false,
    "pycharm": {
     "name": "#%% md\n"
    }
   },
   "source": [
    "### Oneway\n",
    "Says whether the street is one way (see: https://wiki.openstreetmap.org/wiki/Key:oneway)"
   ]
  },
  {
   "cell_type": "code",
   "execution_count": 57,
   "metadata": {
    "collapsed": false,
    "pycharm": {
     "name": "#%%\n"
    }
   },
   "outputs": [
    {
     "data": {
      "text/plain": "yes     7286\nno       657\ntrue       1\nName: oneway, dtype: int64"
     },
     "execution_count": 57,
     "metadata": {},
     "output_type": "execute_result"
    }
   ],
   "source": [
    "streets_gdf_usefull_cols.oneway.value_counts()"
   ]
  },
  {
   "cell_type": "code",
   "execution_count": 58,
   "metadata": {
    "collapsed": false,
    "pycharm": {
     "name": "#%%\n"
    }
   },
   "outputs": [],
   "source": [
    "# if it isn't provided the way is not oneway\n",
    "streets_gdf_usefull_cols.oneway.fillna(\"no\", inplace=True)\n",
    "# saving the outlier ;)\n",
    "streets_gdf_usefull_cols.oneway.replace(\"true\", \"yes\", inplace=True)"
   ]
  },
  {
   "cell_type": "markdown",
   "metadata": {
    "collapsed": false,
    "pycharm": {
     "name": "#%% md\n"
    }
   },
   "source": [
    "### Lit\n",
    "Gives information about street lightning (see: https://wiki.openstreetmap.org/wiki/Key:lit)"
   ]
  },
  {
   "cell_type": "code",
   "execution_count": 59,
   "metadata": {
    "collapsed": false,
    "pycharm": {
     "name": "#%%\n"
    }
   },
   "outputs": [
    {
     "data": {
      "text/plain": "yes    1646\nno       59\nName: lit, dtype: int64"
     },
     "execution_count": 59,
     "metadata": {},
     "output_type": "execute_result"
    }
   ],
   "source": [
    "streets_gdf_usefull_cols.lit.value_counts()"
   ]
  },
  {
   "cell_type": "markdown",
   "metadata": {},
   "source": [
    "Leaving nones as they are because we can't say what they represent, they are ambiguous."
   ]
  },
  {
   "cell_type": "markdown",
   "metadata": {
    "collapsed": false,
    "pycharm": {
     "name": "#%% md\n"
    }
   },
   "source": [
    "### MaxSpeed\n",
    "Provides speed limit for given street (see: https://wiki.openstreetmap.org/wiki/Key:max_speed)"
   ]
  },
  {
   "cell_type": "code",
   "execution_count": 60,
   "metadata": {
    "collapsed": false,
    "pycharm": {
     "name": "#%%\n"
    }
   },
   "outputs": [
    {
     "data": {
      "text/plain": "25 mph    1632\n30 mph     927\n35 mph     857\n50 mph     246\n20 mph     233\n45 mph     174\n40 mph     128\n55 mph      87\n15 mph      74\n65 mph      72\n10 mph      55\n5 mph       20\nName: maxspeed, dtype: int64"
     },
     "execution_count": 60,
     "metadata": {},
     "output_type": "execute_result"
    }
   ],
   "source": [
    "streets_gdf_usefull_cols.maxspeed.value_counts()"
   ]
  },
  {
   "cell_type": "markdown",
   "metadata": {},
   "source": [
    "#### An extra way to fill `Nan` values\n",
    "Here we take most common maxspeed value for certain highway type to later on assign this speed limit. We leave speed limit as string(not convert to int), because we believe that it will help our model to perform better, since in speed limits there might be no numerical relation."
   ]
  },
  {
   "cell_type": "code",
   "execution_count": 61,
   "metadata": {
    "collapsed": false,
    "pycharm": {
     "name": "#%%\n"
    }
   },
   "outputs": [
    {
     "data": {
      "text/plain": "0        25 mph\n1        55 mph\n2        25 mph\n3        25 mph\n4        25 mph\n          ...  \n21680    25 mph\n21681    25 mph\n21682    25 mph\n21683    25 mph\n21684    25 mph\nName: maxspeed, Length: 21685, dtype: object"
     },
     "execution_count": 61,
     "metadata": {},
     "output_type": "execute_result"
    }
   ],
   "source": [
    "from statistics import mode\n",
    "\n",
    "\n",
    "most_common_speed_type = {}\n",
    "\n",
    "# getting most common maxspeed according to the highway type\n",
    "for road_type in streets_gdf_usefull_cols.highway.unique():\n",
    "    road_type = str(road_type)\n",
    "    df_road_type = streets_gdf_usefull_cols[streets_gdf_usefull_cols.highway == road_type]\n",
    "\n",
    "    valid_data = df_road_type.maxspeed[df_road_type.maxspeed.notnull()]\n",
    "\n",
    "    # same kind of street never have a speed limit\n",
    "    # in our data those are highway:track and highway:livingstreet which in US have speed limit 10 mph\n",
    "    if not len(valid_data):\n",
    "        most_common_speed_type[road_type] = \"10 mph\"\n",
    "    else:\n",
    "        most_common_speed_type[road_type] = mode(df_road_type.maxspeed[df_road_type.maxspeed.notnull()])\n",
    "\n",
    "\n",
    "# assigning speed limit to records where it was not provided\n",
    "\n",
    "def assign_street_speed(row):\n",
    "    if pd.isna(row[\"maxspeed\"]):\n",
    "        return most_common_speed_type[str(row[\"highway\"])]\n",
    "    else:\n",
    "        return str(row[\"maxspeed\"])\n",
    "\n",
    "\n",
    "streets_gdf_usefull_cols.maxspeed = streets_gdf_usefull_cols.apply(assign_street_speed, axis=1)\n",
    "streets_gdf_usefull_cols.maxspeed"
   ]
  },
  {
   "cell_type": "markdown",
   "metadata": {
    "collapsed": false,
    "pycharm": {
     "name": "#%% md\n"
    }
   },
   "source": [
    "### Hgv\n",
    "Describes legal restriction for trucks (see: https://wiki.openstreetmap.org/wiki/Key:hgv)"
   ]
  },
  {
   "cell_type": "code",
   "execution_count": 62,
   "metadata": {
    "collapsed": false,
    "pycharm": {
     "name": "#%%\n"
    }
   },
   "outputs": [
    {
     "data": {
      "text/plain": "designated              458\nno                       33\nyes                      15\ndiscouraged               1\nno @ (maxweight >=3)      1\nName: hgv, dtype: int64"
     },
     "execution_count": 62,
     "metadata": {},
     "output_type": "execute_result"
    }
   ],
   "source": [
    "streets_gdf_usefull_cols.hgv.value_counts()"
   ]
  },
  {
   "cell_type": "markdown",
   "metadata": {},
   "source": [
    "Leaving nones as they are because we can't say what they represent, they are ambiguous."
   ]
  },
  {
   "cell_type": "markdown",
   "metadata": {
    "collapsed": false,
    "pycharm": {
     "name": "#%% md\n"
    }
   },
   "source": [
    "### Lanes\n",
    "Represents quantity of lanes in a way (see: https://wiki.openstreetmap.org/wiki/Key:lanes)"
   ]
  },
  {
   "cell_type": "code",
   "execution_count": 63,
   "metadata": {
    "collapsed": false,
    "pycharm": {
     "name": "#%%\n"
    }
   },
   "outputs": [
    {
     "data": {
      "text/plain": "2.0    3053\n3.0    1814\n4.0     866\n1.0     738\n5.0     235\n6.0      25\n8.0       5\n7.0       2\nName: lanes, dtype: int64"
     },
     "execution_count": 63,
     "metadata": {},
     "output_type": "execute_result"
    }
   ],
   "source": [
    "streets_gdf_usefull_cols.lanes.value_counts()"
   ]
  },
  {
   "cell_type": "code",
   "execution_count": 64,
   "metadata": {
    "collapsed": false,
    "pycharm": {
     "name": "#%%\n"
    }
   },
   "outputs": [
    {
     "data": {
      "text/plain": "0        2.0\n1        5.0\n2        2.0\n3        2.0\n4        2.0\n        ... \n21680    1.0\n21681    2.0\n21682    2.0\n21683    4.0\n21684    4.0\nName: lanes, Length: 21685, dtype: float64"
     },
     "execution_count": 64,
     "metadata": {},
     "output_type": "execute_result"
    }
   ],
   "source": [
    "# same as with speed limit\n",
    "\n",
    "from statistics import mode\n",
    "\n",
    "most_common_lanes = {}\n",
    "for road_type in streets_gdf_usefull_cols.highway.unique():\n",
    "    road_type = str(road_type)\n",
    "    df_road_type = streets_gdf_usefull_cols[streets_gdf_usefull_cols.highway == road_type]\n",
    "    valid_data = df_road_type.lanes[df_road_type.lanes.notnull()]\n",
    "    # same kind of street never have provided line numbers\n",
    "    # those are again highway:track and highway:livingstreet which always have one line\n",
    "    if not len(valid_data):\n",
    "        most_common_lanes[road_type] = 1\n",
    "    else:\n",
    "        most_common_lanes[road_type] = mode(df_road_type.lanes[df_road_type.lanes.notnull()])\n",
    "\n",
    "# assigning lanes values to ways\n",
    "\n",
    "def assign_lanes(row):\n",
    "    if pd.isna(row[\"lanes\"]):\n",
    "        return most_common_lanes[str(row[\"highway\"])]\n",
    "    else:\n",
    "        return int(row[\"lanes\"])\n",
    "\n",
    "\n",
    "streets_gdf_usefull_cols.lanes = streets_gdf_usefull_cols.apply(assign_lanes, axis=1)\n",
    "streets_gdf_usefull_cols.lanes"
   ]
  },
  {
   "cell_type": "markdown",
   "metadata": {
    "collapsed": false,
    "pycharm": {
     "name": "#%% md\n"
    }
   },
   "source": [
    "### Sidewalk\n",
    "Provides inforamtion about sidewalk near the street (see: https://wiki.openstreetmap.org/wiki/Key:sidewalk)"
   ]
  },
  {
   "cell_type": "code",
   "execution_count": 65,
   "metadata": {
    "collapsed": false,
    "pycharm": {
     "name": "#%%\n"
    }
   },
   "outputs": [
    {
     "data": {
      "text/plain": "both        2773\nright       1472\nno           659\nseparate     510\nleft         193\nyes            4\nnone           2\nName: sidewalk, dtype: int64"
     },
     "execution_count": 65,
     "metadata": {},
     "output_type": "execute_result"
    }
   ],
   "source": [
    "streets_gdf_usefull_cols.sidewalk.value_counts()"
   ]
  },
  {
   "cell_type": "code",
   "execution_count": 66,
   "metadata": {
    "collapsed": false,
    "pycharm": {
     "name": "#%%\n"
    }
   },
   "outputs": [],
   "source": [
    "# transforming those 3 into one\n",
    "# no matter for us on which side the sidewalk is\n",
    "streets_gdf_usefull_cols.sidewalk.replace([\"left\", \"right\", \"yes\"], \"single\", inplace=True)\n",
    "# None = no, could also delete the records (only 2, outliers)\n",
    "streets_gdf_usefull_cols.sidewalk.replace(\"none\", \"no\", inplace=True)"
   ]
  },
  {
   "cell_type": "markdown",
   "metadata": {
    "collapsed": false,
    "pycharm": {
     "name": "#%% md\n"
    }
   },
   "source": [
    "### Service\n",
    "An extra service which a way has (see: https://wiki.openstreetmap.org/wiki/Key:service)"
   ]
  },
  {
   "cell_type": "code",
   "execution_count": 67,
   "metadata": {
    "collapsed": false,
    "pycharm": {
     "name": "#%%\n"
    }
   },
   "outputs": [
    {
     "data": {
      "text/plain": "parking_aisle       2643\ndriveway             667\nalley                423\nbusway               147\ndrive-through         43\nemergency_access      11\n1                      4\nfuel                   4\nyard                   1\n`s                     1\nName: service, dtype: int64"
     },
     "execution_count": 67,
     "metadata": {},
     "output_type": "execute_result"
    }
   ],
   "source": [
    "streets_gdf_usefull_cols.service.value_counts()"
   ]
  },
  {
   "cell_type": "code",
   "execution_count": 68,
   "metadata": {
    "collapsed": false,
    "pycharm": {
     "name": "#%%\n"
    }
   },
   "outputs": [
    {
     "data": {
      "text/plain": "basic               17741\nparking_aisle        2643\ndriveway              667\nalley                 423\nbusway                147\ndrive-through          43\nemergency_access       11\n1                       4\nfuel                    4\nyard                    1\n`s                      1\nName: service, dtype: int64"
     },
     "execution_count": 68,
     "metadata": {},
     "output_type": "execute_result"
    }
   ],
   "source": [
    "# basic means the street has no service (besides driving on it)\n",
    "streets_gdf_usefull_cols.service.fillna(\"basic\", inplace=True)\n",
    "# checking if fillna() worked well \n",
    "streets_gdf_usefull_cols.service.value_counts()"
   ]
  },
  {
   "cell_type": "code",
   "execution_count": 69,
   "metadata": {
    "collapsed": false,
    "pycharm": {
     "name": "#%%\n"
    }
   },
   "outputs": [
    {
     "data": {
      "text/plain": "       highway access     cycleway bicycle foot   surface oneway  lit  \\\n0  residential    yes  shared_lane     NaN  NaN   asphalt     no  NaN   \n1     motorway    yes  shared_lane      no  NaN  concrete    yes  NaN   \n2  residential    yes  shared_lane     NaN  NaN   asphalt     no  NaN   \n3  residential    yes  shared_lane     NaN  NaN   asphalt     no  NaN   \n4  residential    yes  shared_lane     NaN  NaN   asphalt     no  NaN   \n\n  maxspeed         hgv  ...  sidewalk service trolley_wire    length  \\\n0   25 mph         NaN  ...       NaN   basic           no  0.000851   \n1   55 mph  designated  ...       NaN   basic           no  0.002131   \n2   25 mph         NaN  ...       NaN   basic           no  0.000986   \n3   25 mph         NaN  ...       NaN   basic           no  0.005475   \n4   25 mph         NaN  ...       NaN   basic           no  0.001665   \n\n   shaded_length  shaded_percent  \\\n0       0.000000         0.00000   \n1       0.000000         0.00000   \n2       0.000192         0.19462   \n3       0.000000         0.00000   \n4       0.000000         0.00000   \n\n                                            geometry  \\\n0  LINESTRING (-122.41648 37.79905, -122.41733 37...   \n1  LINESTRING (-122.39889 37.71689, -122.39893 37...   \n2  LINESTRING (-122.40013 37.77428, -122.40014 37...   \n3  LINESTRING (-122.40013 37.77428, -122.39943 37...   \n4  LINESTRING (-122.39110 37.76967, -122.39123 37...   \n\n                        center           x          y  \n0  POINT (-122.41691 37.79900) -122.416906  37.799001  \n1  POINT (-122.39918 37.71792) -122.399175  37.717919  \n2  POINT (-122.39981 37.77394) -122.399809  37.773939  \n3  POINT (-122.39798 37.77597) -122.397979  37.775974  \n4  POINT (-122.39194 37.76963) -122.391936  37.769630  \n\n[5 rows x 21 columns]",
      "text/html": "<div>\n<style scoped>\n    .dataframe tbody tr th:only-of-type {\n        vertical-align: middle;\n    }\n\n    .dataframe tbody tr th {\n        vertical-align: top;\n    }\n\n    .dataframe thead th {\n        text-align: right;\n    }\n</style>\n<table border=\"1\" class=\"dataframe\">\n  <thead>\n    <tr style=\"text-align: right;\">\n      <th></th>\n      <th>highway</th>\n      <th>access</th>\n      <th>cycleway</th>\n      <th>bicycle</th>\n      <th>foot</th>\n      <th>surface</th>\n      <th>oneway</th>\n      <th>lit</th>\n      <th>maxspeed</th>\n      <th>hgv</th>\n      <th>...</th>\n      <th>sidewalk</th>\n      <th>service</th>\n      <th>trolley_wire</th>\n      <th>length</th>\n      <th>shaded_length</th>\n      <th>shaded_percent</th>\n      <th>geometry</th>\n      <th>center</th>\n      <th>x</th>\n      <th>y</th>\n    </tr>\n  </thead>\n  <tbody>\n    <tr>\n      <th>0</th>\n      <td>residential</td>\n      <td>yes</td>\n      <td>shared_lane</td>\n      <td>NaN</td>\n      <td>NaN</td>\n      <td>asphalt</td>\n      <td>no</td>\n      <td>NaN</td>\n      <td>25 mph</td>\n      <td>NaN</td>\n      <td>...</td>\n      <td>NaN</td>\n      <td>basic</td>\n      <td>no</td>\n      <td>0.000851</td>\n      <td>0.000000</td>\n      <td>0.00000</td>\n      <td>LINESTRING (-122.41648 37.79905, -122.41733 37...</td>\n      <td>POINT (-122.41691 37.79900)</td>\n      <td>-122.416906</td>\n      <td>37.799001</td>\n    </tr>\n    <tr>\n      <th>1</th>\n      <td>motorway</td>\n      <td>yes</td>\n      <td>shared_lane</td>\n      <td>no</td>\n      <td>NaN</td>\n      <td>concrete</td>\n      <td>yes</td>\n      <td>NaN</td>\n      <td>55 mph</td>\n      <td>designated</td>\n      <td>...</td>\n      <td>NaN</td>\n      <td>basic</td>\n      <td>no</td>\n      <td>0.002131</td>\n      <td>0.000000</td>\n      <td>0.00000</td>\n      <td>LINESTRING (-122.39889 37.71689, -122.39893 37...</td>\n      <td>POINT (-122.39918 37.71792)</td>\n      <td>-122.399175</td>\n      <td>37.717919</td>\n    </tr>\n    <tr>\n      <th>2</th>\n      <td>residential</td>\n      <td>yes</td>\n      <td>shared_lane</td>\n      <td>NaN</td>\n      <td>NaN</td>\n      <td>asphalt</td>\n      <td>no</td>\n      <td>NaN</td>\n      <td>25 mph</td>\n      <td>NaN</td>\n      <td>...</td>\n      <td>NaN</td>\n      <td>basic</td>\n      <td>no</td>\n      <td>0.000986</td>\n      <td>0.000192</td>\n      <td>0.19462</td>\n      <td>LINESTRING (-122.40013 37.77428, -122.40014 37...</td>\n      <td>POINT (-122.39981 37.77394)</td>\n      <td>-122.399809</td>\n      <td>37.773939</td>\n    </tr>\n    <tr>\n      <th>3</th>\n      <td>residential</td>\n      <td>yes</td>\n      <td>shared_lane</td>\n      <td>NaN</td>\n      <td>NaN</td>\n      <td>asphalt</td>\n      <td>no</td>\n      <td>NaN</td>\n      <td>25 mph</td>\n      <td>NaN</td>\n      <td>...</td>\n      <td>NaN</td>\n      <td>basic</td>\n      <td>no</td>\n      <td>0.005475</td>\n      <td>0.000000</td>\n      <td>0.00000</td>\n      <td>LINESTRING (-122.40013 37.77428, -122.39943 37...</td>\n      <td>POINT (-122.39798 37.77597)</td>\n      <td>-122.397979</td>\n      <td>37.775974</td>\n    </tr>\n    <tr>\n      <th>4</th>\n      <td>residential</td>\n      <td>yes</td>\n      <td>shared_lane</td>\n      <td>NaN</td>\n      <td>NaN</td>\n      <td>asphalt</td>\n      <td>no</td>\n      <td>NaN</td>\n      <td>25 mph</td>\n      <td>NaN</td>\n      <td>...</td>\n      <td>NaN</td>\n      <td>basic</td>\n      <td>no</td>\n      <td>0.001665</td>\n      <td>0.000000</td>\n      <td>0.00000</td>\n      <td>LINESTRING (-122.39110 37.76967, -122.39123 37...</td>\n      <td>POINT (-122.39194 37.76963)</td>\n      <td>-122.391936</td>\n      <td>37.769630</td>\n    </tr>\n  </tbody>\n</table>\n<p>5 rows × 21 columns</p>\n</div>"
     },
     "execution_count": 69,
     "metadata": {},
     "output_type": "execute_result"
    }
   ],
   "source": [
    "# looking at the data\n",
    "streets_gdf_usefull_cols.head()"
   ]
  },
  {
   "cell_type": "markdown",
   "metadata": {
    "collapsed": false,
    "pycharm": {
     "name": "#%% md\n"
    }
   },
   "source": [
    "### Deleting records that have outliers properties\n",
    "As we could see (e.g. after calling `.value_counts()`) there are some outliers. Besides that they mostly don't provide any information that can be used by some ML models, it also increases its complexity, so it's better to get rid of all records with has any unwanted values. Another reason is that data in the OSM might have been added uncarefully by random person.\n",
    "\n",
    "Basing on `.value_counts()` we have chosen value 10 to be minimal number to not be an outlier (insignificant with 21 000 streets)."
   ]
  },
  {
   "cell_type": "code",
   "execution_count": 70,
   "metadata": {
    "collapsed": false,
    "pycharm": {
     "name": "#%%\n"
    }
   },
   "outputs": [],
   "source": [
    "MINIMAL_NUMBER_TO_NOT_BE_OUTLIER = 10\n",
    "\n",
    "len_before = len(streets_gdf_usefull_cols)\n",
    "\n",
    "for col in streets_gdf_usefull_cols:\n",
    "    # consider only string values\n",
    "    if streets_gdf_usefull_cols[col].dtype != object:\n",
    "        continue\n",
    "\n",
    "    considered_column = streets_gdf_usefull_cols[col]\n",
    "    considered_records = considered_column[considered_column.notnull()]\n",
    "    \n",
    "    values, counts = np.unique(considered_records, return_counts=True)\n",
    "    for val, count in zip(values, counts):\n",
    "        if count < MINIMAL_NUMBER_TO_NOT_BE_OUTLIER:\n",
    "            streets_gdf_usefull_cols = streets_gdf_usefull_cols[streets_gdf_usefull_cols[col] != val]\n",
    "\n",
    "len_after = len(streets_gdf_usefull_cols)"
   ]
  },
  {
   "cell_type": "code",
   "execution_count": 71,
   "outputs": [
    {
     "name": "stdout",
     "output_type": "stream",
     "text": [
      "21685 21592\n"
     ]
    }
   ],
   "source": [
    "# checking if we haven't deleted too much ;)\n",
    "print(len_before, len_after)"
   ],
   "metadata": {
    "collapsed": false,
    "pycharm": {
     "name": "#%%\n"
    }
   }
  },
  {
   "cell_type": "code",
   "execution_count": 72,
   "outputs": [],
   "source": [
    "# saving data\n",
    "streets_gdf_usefull_cols.to_csv(\"../data/cleaned_data.csv\", index=False)"
   ],
   "metadata": {
    "collapsed": false,
    "pycharm": {
     "name": "#%%\n"
    }
   }
  }
 ],
 "metadata": {
  "kernelspec": {
   "display_name": "Python 3",
   "language": "python",
   "name": "python3"
  },
  "language_info": {
   "codemirror_mode": {
    "name": "ipython",
    "version": 2
   },
   "file_extension": ".py",
   "mimetype": "text/x-python",
   "name": "python",
   "nbconvert_exporter": "python",
   "pygments_lexer": "ipython2",
   "version": "2.7.6"
  }
 },
 "nbformat": 4,
 "nbformat_minor": 0
}
