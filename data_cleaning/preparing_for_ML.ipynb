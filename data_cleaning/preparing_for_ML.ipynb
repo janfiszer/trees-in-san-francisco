{
 "cells": [
  {
   "cell_type": "code",
   "execution_count": 1,
   "metadata": {
    "collapsed": true
   },
   "outputs": [],
   "source": [
    "import pandas as pd\n",
    "\n",
    "streets_df_data = pd.read_csv(\"../data/cleaned_data.csv\")"
   ]
  },
  {
   "cell_type": "markdown",
   "source": [
    "## Separating labels and the data"
   ],
   "metadata": {
    "collapsed": false
   }
  },
  {
   "cell_type": "code",
   "execution_count": 2,
   "outputs": [
    {
     "data": {
      "text/plain": "   shaded_length  shaded_percent\n0       0.000000         0.00000\n1       0.000000         0.00000\n2       0.000192         0.19462\n3       0.000000         0.00000\n4       0.000000         0.00000",
      "text/html": "<div>\n<style scoped>\n    .dataframe tbody tr th:only-of-type {\n        vertical-align: middle;\n    }\n\n    .dataframe tbody tr th {\n        vertical-align: top;\n    }\n\n    .dataframe thead th {\n        text-align: right;\n    }\n</style>\n<table border=\"1\" class=\"dataframe\">\n  <thead>\n    <tr style=\"text-align: right;\">\n      <th></th>\n      <th>shaded_length</th>\n      <th>shaded_percent</th>\n    </tr>\n  </thead>\n  <tbody>\n    <tr>\n      <th>0</th>\n      <td>0.000000</td>\n      <td>0.00000</td>\n    </tr>\n    <tr>\n      <th>1</th>\n      <td>0.000000</td>\n      <td>0.00000</td>\n    </tr>\n    <tr>\n      <th>2</th>\n      <td>0.000192</td>\n      <td>0.19462</td>\n    </tr>\n    <tr>\n      <th>3</th>\n      <td>0.000000</td>\n      <td>0.00000</td>\n    </tr>\n    <tr>\n      <th>4</th>\n      <td>0.000000</td>\n      <td>0.00000</td>\n    </tr>\n  </tbody>\n</table>\n</div>"
     },
     "execution_count": 2,
     "metadata": {},
     "output_type": "execute_result"
    }
   ],
   "source": [
    "# creating labels for future ML\n",
    "\n",
    "labels = streets_df_data[[\"shaded_length\", \"shaded_percent\"]]\n",
    "streets_df_data = streets_df_data.drop([\"shaded_length\", \"shaded_percent\"], axis=1)\n",
    "labels.head()"
   ],
   "metadata": {
    "collapsed": false,
    "pycharm": {
     "name": "#%%\n"
    }
   }
  },
  {
   "cell_type": "code",
   "execution_count": 4,
   "outputs": [
    {
     "data": {
      "text/plain": "           highway access     cycleway     bicycle foot   surface oneway  lit  \\\n0      residential    yes  shared_lane         NaN  NaN   asphalt     no  NaN   \n1         motorway    yes  shared_lane          no  NaN  concrete    yes  NaN   \n2      residential    yes  shared_lane         NaN  NaN   asphalt     no  NaN   \n3      residential    yes  shared_lane         NaN  NaN   asphalt     no  NaN   \n4      residential    yes  shared_lane         NaN  NaN   asphalt     no  NaN   \n...            ...    ...          ...         ...  ...       ...    ...  ...   \n21587    secondary    yes  shared_lane         NaN  NaN   asphalt    yes  NaN   \n21588  residential    yes  shared_lane         NaN  NaN   asphalt     no  NaN   \n21589  residential    yes  shared_lane         NaN  NaN   asphalt    yes  NaN   \n21590     tertiary    yes        track  designated  NaN   asphalt     no  yes   \n21591     tertiary    yes        track  designated  NaN   asphalt     no  yes   \n\n      maxspeed         hgv  lanes sidewalk service trolley_wire    length  \\\n0       25 mph         NaN    2.0      NaN   basic           no  0.000851   \n1       55 mph  designated    5.0      NaN   basic           no  0.002131   \n2       25 mph         NaN    2.0      NaN   basic           no  0.000986   \n3       25 mph         NaN    2.0      NaN   basic           no  0.005475   \n4       25 mph         NaN    2.0      NaN   basic           no  0.001665   \n...        ...         ...    ...      ...     ...          ...       ...   \n21587   25 mph         NaN    1.0   single   basic           no  0.001157   \n21588   25 mph         NaN    2.0     both   basic           no  0.000083   \n21589   25 mph         NaN    2.0      NaN   basic           no  0.000506   \n21590   25 mph         NaN    4.0     both   basic          yes  0.000394   \n21591   25 mph         NaN    4.0     both   basic          yes  0.000559   \n\n                                                geometry  \\\n0      LINESTRING (-122.4164837 37.7990541, -122.4173...   \n1      LINESTRING (-122.3988926 37.7168917, -122.3989...   \n2      LINESTRING (-122.4001293 37.7742804, -122.4001...   \n3      LINESTRING (-122.4001293 37.7742804, -122.3994...   \n4      LINESTRING (-122.3911048 37.7696737, -122.3912...   \n...                                                  ...   \n21587  LINESTRING (-122.464675 37.732523, -122.465478...   \n21588  LINESTRING (-122.464675 37.732523, -122.464737...   \n21589  LINESTRING (-122.4443464 37.7586049, -122.4444...   \n21590  LINESTRING (-122.4059618 37.7823047, -122.4056...   \n21591  LINESTRING (-122.4056536 37.7820595, -122.4056...   \n\n                                             center           x          y  \n0                 POINT (-122.41690585 37.79900125) -122.416906  37.799001  \n1      POINT (-122.3991750132498 37.71791905462991) -122.399175  37.717919  \n2      POINT (-122.3998092949861 37.77393927964267) -122.399809  37.773939  \n3      POINT (-122.3979785890334 37.77597399396392) -122.397979  37.775974  \n4       POINT (-122.391935931702 37.76962989985856) -122.391936  37.769630  \n...                                             ...         ...        ...  \n21587  POINT (-122.4651441675435 37.73286141542141) -122.465144  37.732861  \n21588             POINT (-122.46470635 37.73249595) -122.464706  37.732496  \n21589  POINT (-122.4445567814889 37.75873903452056) -122.444557  37.758739  \n21590               POINT (-122.4058077 37.7821821) -122.405808  37.782182  \n21591  POINT (-122.4054347030661 37.78188539614575) -122.405435  37.781885  \n\n[21592 rows x 19 columns]",
      "text/html": "<div>\n<style scoped>\n    .dataframe tbody tr th:only-of-type {\n        vertical-align: middle;\n    }\n\n    .dataframe tbody tr th {\n        vertical-align: top;\n    }\n\n    .dataframe thead th {\n        text-align: right;\n    }\n</style>\n<table border=\"1\" class=\"dataframe\">\n  <thead>\n    <tr style=\"text-align: right;\">\n      <th></th>\n      <th>highway</th>\n      <th>access</th>\n      <th>cycleway</th>\n      <th>bicycle</th>\n      <th>foot</th>\n      <th>surface</th>\n      <th>oneway</th>\n      <th>lit</th>\n      <th>maxspeed</th>\n      <th>hgv</th>\n      <th>lanes</th>\n      <th>sidewalk</th>\n      <th>service</th>\n      <th>trolley_wire</th>\n      <th>length</th>\n      <th>geometry</th>\n      <th>center</th>\n      <th>x</th>\n      <th>y</th>\n    </tr>\n  </thead>\n  <tbody>\n    <tr>\n      <th>0</th>\n      <td>residential</td>\n      <td>yes</td>\n      <td>shared_lane</td>\n      <td>NaN</td>\n      <td>NaN</td>\n      <td>asphalt</td>\n      <td>no</td>\n      <td>NaN</td>\n      <td>25 mph</td>\n      <td>NaN</td>\n      <td>2.0</td>\n      <td>NaN</td>\n      <td>basic</td>\n      <td>no</td>\n      <td>0.000851</td>\n      <td>LINESTRING (-122.4164837 37.7990541, -122.4173...</td>\n      <td>POINT (-122.41690585 37.79900125)</td>\n      <td>-122.416906</td>\n      <td>37.799001</td>\n    </tr>\n    <tr>\n      <th>1</th>\n      <td>motorway</td>\n      <td>yes</td>\n      <td>shared_lane</td>\n      <td>no</td>\n      <td>NaN</td>\n      <td>concrete</td>\n      <td>yes</td>\n      <td>NaN</td>\n      <td>55 mph</td>\n      <td>designated</td>\n      <td>5.0</td>\n      <td>NaN</td>\n      <td>basic</td>\n      <td>no</td>\n      <td>0.002131</td>\n      <td>LINESTRING (-122.3988926 37.7168917, -122.3989...</td>\n      <td>POINT (-122.3991750132498 37.71791905462991)</td>\n      <td>-122.399175</td>\n      <td>37.717919</td>\n    </tr>\n    <tr>\n      <th>2</th>\n      <td>residential</td>\n      <td>yes</td>\n      <td>shared_lane</td>\n      <td>NaN</td>\n      <td>NaN</td>\n      <td>asphalt</td>\n      <td>no</td>\n      <td>NaN</td>\n      <td>25 mph</td>\n      <td>NaN</td>\n      <td>2.0</td>\n      <td>NaN</td>\n      <td>basic</td>\n      <td>no</td>\n      <td>0.000986</td>\n      <td>LINESTRING (-122.4001293 37.7742804, -122.4001...</td>\n      <td>POINT (-122.3998092949861 37.77393927964267)</td>\n      <td>-122.399809</td>\n      <td>37.773939</td>\n    </tr>\n    <tr>\n      <th>3</th>\n      <td>residential</td>\n      <td>yes</td>\n      <td>shared_lane</td>\n      <td>NaN</td>\n      <td>NaN</td>\n      <td>asphalt</td>\n      <td>no</td>\n      <td>NaN</td>\n      <td>25 mph</td>\n      <td>NaN</td>\n      <td>2.0</td>\n      <td>NaN</td>\n      <td>basic</td>\n      <td>no</td>\n      <td>0.005475</td>\n      <td>LINESTRING (-122.4001293 37.7742804, -122.3994...</td>\n      <td>POINT (-122.3979785890334 37.77597399396392)</td>\n      <td>-122.397979</td>\n      <td>37.775974</td>\n    </tr>\n    <tr>\n      <th>4</th>\n      <td>residential</td>\n      <td>yes</td>\n      <td>shared_lane</td>\n      <td>NaN</td>\n      <td>NaN</td>\n      <td>asphalt</td>\n      <td>no</td>\n      <td>NaN</td>\n      <td>25 mph</td>\n      <td>NaN</td>\n      <td>2.0</td>\n      <td>NaN</td>\n      <td>basic</td>\n      <td>no</td>\n      <td>0.001665</td>\n      <td>LINESTRING (-122.3911048 37.7696737, -122.3912...</td>\n      <td>POINT (-122.391935931702 37.76962989985856)</td>\n      <td>-122.391936</td>\n      <td>37.769630</td>\n    </tr>\n    <tr>\n      <th>...</th>\n      <td>...</td>\n      <td>...</td>\n      <td>...</td>\n      <td>...</td>\n      <td>...</td>\n      <td>...</td>\n      <td>...</td>\n      <td>...</td>\n      <td>...</td>\n      <td>...</td>\n      <td>...</td>\n      <td>...</td>\n      <td>...</td>\n      <td>...</td>\n      <td>...</td>\n      <td>...</td>\n      <td>...</td>\n      <td>...</td>\n      <td>...</td>\n    </tr>\n    <tr>\n      <th>21587</th>\n      <td>secondary</td>\n      <td>yes</td>\n      <td>shared_lane</td>\n      <td>NaN</td>\n      <td>NaN</td>\n      <td>asphalt</td>\n      <td>yes</td>\n      <td>NaN</td>\n      <td>25 mph</td>\n      <td>NaN</td>\n      <td>1.0</td>\n      <td>single</td>\n      <td>basic</td>\n      <td>no</td>\n      <td>0.001157</td>\n      <td>LINESTRING (-122.464675 37.732523, -122.465478...</td>\n      <td>POINT (-122.4651441675435 37.73286141542141)</td>\n      <td>-122.465144</td>\n      <td>37.732861</td>\n    </tr>\n    <tr>\n      <th>21588</th>\n      <td>residential</td>\n      <td>yes</td>\n      <td>shared_lane</td>\n      <td>NaN</td>\n      <td>NaN</td>\n      <td>asphalt</td>\n      <td>no</td>\n      <td>NaN</td>\n      <td>25 mph</td>\n      <td>NaN</td>\n      <td>2.0</td>\n      <td>both</td>\n      <td>basic</td>\n      <td>no</td>\n      <td>0.000083</td>\n      <td>LINESTRING (-122.464675 37.732523, -122.464737...</td>\n      <td>POINT (-122.46470635 37.73249595)</td>\n      <td>-122.464706</td>\n      <td>37.732496</td>\n    </tr>\n    <tr>\n      <th>21589</th>\n      <td>residential</td>\n      <td>yes</td>\n      <td>shared_lane</td>\n      <td>NaN</td>\n      <td>NaN</td>\n      <td>asphalt</td>\n      <td>yes</td>\n      <td>NaN</td>\n      <td>25 mph</td>\n      <td>NaN</td>\n      <td>2.0</td>\n      <td>NaN</td>\n      <td>basic</td>\n      <td>no</td>\n      <td>0.000506</td>\n      <td>LINESTRING (-122.4443464 37.7586049, -122.4444...</td>\n      <td>POINT (-122.4445567814889 37.75873903452056)</td>\n      <td>-122.444557</td>\n      <td>37.758739</td>\n    </tr>\n    <tr>\n      <th>21590</th>\n      <td>tertiary</td>\n      <td>yes</td>\n      <td>track</td>\n      <td>designated</td>\n      <td>NaN</td>\n      <td>asphalt</td>\n      <td>no</td>\n      <td>yes</td>\n      <td>25 mph</td>\n      <td>NaN</td>\n      <td>4.0</td>\n      <td>both</td>\n      <td>basic</td>\n      <td>yes</td>\n      <td>0.000394</td>\n      <td>LINESTRING (-122.4059618 37.7823047, -122.4056...</td>\n      <td>POINT (-122.4058077 37.7821821)</td>\n      <td>-122.405808</td>\n      <td>37.782182</td>\n    </tr>\n    <tr>\n      <th>21591</th>\n      <td>tertiary</td>\n      <td>yes</td>\n      <td>track</td>\n      <td>designated</td>\n      <td>NaN</td>\n      <td>asphalt</td>\n      <td>no</td>\n      <td>yes</td>\n      <td>25 mph</td>\n      <td>NaN</td>\n      <td>4.0</td>\n      <td>both</td>\n      <td>basic</td>\n      <td>yes</td>\n      <td>0.000559</td>\n      <td>LINESTRING (-122.4056536 37.7820595, -122.4056...</td>\n      <td>POINT (-122.4054347030661 37.78188539614575)</td>\n      <td>-122.405435</td>\n      <td>37.781885</td>\n    </tr>\n  </tbody>\n</table>\n<p>21592 rows × 19 columns</p>\n</div>"
     },
     "execution_count": 4,
     "metadata": {},
     "output_type": "execute_result"
    }
   ],
   "source": [
    "streets_df_data"
   ],
   "metadata": {
    "collapsed": false,
    "pycharm": {
     "name": "#%%\n"
    }
   }
  },
  {
   "cell_type": "code",
   "execution_count": 5,
   "outputs": [
    {
     "data": {
      "text/plain": "       highway access     cycleway bicycle foot   surface oneway  lit  \\\n0  residential    yes  shared_lane     NaN  NaN   asphalt     no  NaN   \n1     motorway    yes  shared_lane      no  NaN  concrete    yes  NaN   \n2  residential    yes  shared_lane     NaN  NaN   asphalt     no  NaN   \n3  residential    yes  shared_lane     NaN  NaN   asphalt     no  NaN   \n4  residential    yes  shared_lane     NaN  NaN   asphalt     no  NaN   \n\n  maxspeed         hgv  lanes sidewalk service trolley_wire    length  \\\n0   25 mph         NaN    2.0      NaN   basic           no  0.000851   \n1   55 mph  designated    5.0      NaN   basic           no  0.002131   \n2   25 mph         NaN    2.0      NaN   basic           no  0.000986   \n3   25 mph         NaN    2.0      NaN   basic           no  0.005475   \n4   25 mph         NaN    2.0      NaN   basic           no  0.001665   \n\n            x          y  \n0 -122.416906  37.799001  \n1 -122.399175  37.717919  \n2 -122.399809  37.773939  \n3 -122.397979  37.775974  \n4 -122.391936  37.769630  ",
      "text/html": "<div>\n<style scoped>\n    .dataframe tbody tr th:only-of-type {\n        vertical-align: middle;\n    }\n\n    .dataframe tbody tr th {\n        vertical-align: top;\n    }\n\n    .dataframe thead th {\n        text-align: right;\n    }\n</style>\n<table border=\"1\" class=\"dataframe\">\n  <thead>\n    <tr style=\"text-align: right;\">\n      <th></th>\n      <th>highway</th>\n      <th>access</th>\n      <th>cycleway</th>\n      <th>bicycle</th>\n      <th>foot</th>\n      <th>surface</th>\n      <th>oneway</th>\n      <th>lit</th>\n      <th>maxspeed</th>\n      <th>hgv</th>\n      <th>lanes</th>\n      <th>sidewalk</th>\n      <th>service</th>\n      <th>trolley_wire</th>\n      <th>length</th>\n      <th>x</th>\n      <th>y</th>\n    </tr>\n  </thead>\n  <tbody>\n    <tr>\n      <th>0</th>\n      <td>residential</td>\n      <td>yes</td>\n      <td>shared_lane</td>\n      <td>NaN</td>\n      <td>NaN</td>\n      <td>asphalt</td>\n      <td>no</td>\n      <td>NaN</td>\n      <td>25 mph</td>\n      <td>NaN</td>\n      <td>2.0</td>\n      <td>NaN</td>\n      <td>basic</td>\n      <td>no</td>\n      <td>0.000851</td>\n      <td>-122.416906</td>\n      <td>37.799001</td>\n    </tr>\n    <tr>\n      <th>1</th>\n      <td>motorway</td>\n      <td>yes</td>\n      <td>shared_lane</td>\n      <td>no</td>\n      <td>NaN</td>\n      <td>concrete</td>\n      <td>yes</td>\n      <td>NaN</td>\n      <td>55 mph</td>\n      <td>designated</td>\n      <td>5.0</td>\n      <td>NaN</td>\n      <td>basic</td>\n      <td>no</td>\n      <td>0.002131</td>\n      <td>-122.399175</td>\n      <td>37.717919</td>\n    </tr>\n    <tr>\n      <th>2</th>\n      <td>residential</td>\n      <td>yes</td>\n      <td>shared_lane</td>\n      <td>NaN</td>\n      <td>NaN</td>\n      <td>asphalt</td>\n      <td>no</td>\n      <td>NaN</td>\n      <td>25 mph</td>\n      <td>NaN</td>\n      <td>2.0</td>\n      <td>NaN</td>\n      <td>basic</td>\n      <td>no</td>\n      <td>0.000986</td>\n      <td>-122.399809</td>\n      <td>37.773939</td>\n    </tr>\n    <tr>\n      <th>3</th>\n      <td>residential</td>\n      <td>yes</td>\n      <td>shared_lane</td>\n      <td>NaN</td>\n      <td>NaN</td>\n      <td>asphalt</td>\n      <td>no</td>\n      <td>NaN</td>\n      <td>25 mph</td>\n      <td>NaN</td>\n      <td>2.0</td>\n      <td>NaN</td>\n      <td>basic</td>\n      <td>no</td>\n      <td>0.005475</td>\n      <td>-122.397979</td>\n      <td>37.775974</td>\n    </tr>\n    <tr>\n      <th>4</th>\n      <td>residential</td>\n      <td>yes</td>\n      <td>shared_lane</td>\n      <td>NaN</td>\n      <td>NaN</td>\n      <td>asphalt</td>\n      <td>no</td>\n      <td>NaN</td>\n      <td>25 mph</td>\n      <td>NaN</td>\n      <td>2.0</td>\n      <td>NaN</td>\n      <td>basic</td>\n      <td>no</td>\n      <td>0.001665</td>\n      <td>-122.391936</td>\n      <td>37.769630</td>\n    </tr>\n  </tbody>\n</table>\n</div>"
     },
     "execution_count": 5,
     "metadata": {},
     "output_type": "execute_result"
    }
   ],
   "source": [
    "# dropping geometry related columns which has no use in ML\n",
    "\n",
    "streets_df_data.drop([\"center\", \"geometry\"], inplace=True, axis=1)\n",
    "streets_df_data.head()"
   ],
   "metadata": {
    "collapsed": false,
    "pycharm": {
     "name": "#%%\n"
    }
   }
  },
  {
   "cell_type": "markdown",
   "source": [
    "## Getting dummies (not getting dum)"
   ],
   "metadata": {
    "collapsed": false
   }
  },
  {
   "cell_type": "code",
   "execution_count": 6,
   "outputs": [],
   "source": [
    "# get dummies on every string column\n",
    "\n",
    "categorized_data = []\n",
    "for col in streets_df_data:\n",
    "    # consider only string values\n",
    "    if streets_df_data[col].dtype != object:\n",
    "        categorized_data.append(streets_df_data[col].to_frame())\n",
    "        continue\n",
    "    categorized_data.append(pd.get_dummies(streets_df_data[col]))\n",
    "\n",
    "learning_df = pd.concat(categorized_data, axis=1)"
   ],
   "metadata": {
    "collapsed": false,
    "pycharm": {
     "name": "#%%\n"
    }
   }
  },
  {
   "cell_type": "markdown",
   "source": [
    "## Normalizing data"
   ],
   "metadata": {
    "collapsed": false
   }
  },
  {
   "cell_type": "code",
   "execution_count": 7,
   "outputs": [
    {
     "data": {
      "text/plain": "   cycleway  living_street  motorway  motorway_link  path  primary  \\\n0       0.0            0.0       0.0            0.0   0.0      0.0   \n1       0.0            0.0       1.0            0.0   0.0      0.0   \n2       0.0            0.0       0.0            0.0   0.0      0.0   \n3       0.0            0.0       0.0            0.0   0.0      0.0   \n4       0.0            0.0       0.0            0.0   0.0      0.0   \n\n   primary_link  residential  secondary  secondary_link  ...  busway  \\\n0           0.0          1.0        0.0             0.0  ...     0.0   \n1           0.0          0.0        0.0             0.0  ...     0.0   \n2           0.0          1.0        0.0             0.0  ...     0.0   \n3           0.0          1.0        0.0             0.0  ...     0.0   \n4           0.0          1.0        0.0             0.0  ...     0.0   \n\n   drive-through  driveway  emergency_access  parking_aisle   no  yes  \\\n0            0.0       0.0               0.0            0.0  1.0  0.0   \n1            0.0       0.0               0.0            0.0  1.0  0.0   \n2            0.0       0.0               0.0            0.0  1.0  0.0   \n3            0.0       0.0               0.0            0.0  1.0  0.0   \n4            0.0       0.0               0.0            0.0  1.0  0.0   \n\n     length         x         y  \n0  0.021978  0.527629  0.612320  \n1  0.055314  0.624064  0.118376  \n2  0.025500  0.620614  0.459645  \n3  0.142379  0.630571  0.472040  \n4  0.043169  0.663437  0.433393  \n\n[5 rows x 82 columns]",
      "text/html": "<div>\n<style scoped>\n    .dataframe tbody tr th:only-of-type {\n        vertical-align: middle;\n    }\n\n    .dataframe tbody tr th {\n        vertical-align: top;\n    }\n\n    .dataframe thead th {\n        text-align: right;\n    }\n</style>\n<table border=\"1\" class=\"dataframe\">\n  <thead>\n    <tr style=\"text-align: right;\">\n      <th></th>\n      <th>cycleway</th>\n      <th>living_street</th>\n      <th>motorway</th>\n      <th>motorway_link</th>\n      <th>path</th>\n      <th>primary</th>\n      <th>primary_link</th>\n      <th>residential</th>\n      <th>secondary</th>\n      <th>secondary_link</th>\n      <th>...</th>\n      <th>busway</th>\n      <th>drive-through</th>\n      <th>driveway</th>\n      <th>emergency_access</th>\n      <th>parking_aisle</th>\n      <th>no</th>\n      <th>yes</th>\n      <th>length</th>\n      <th>x</th>\n      <th>y</th>\n    </tr>\n  </thead>\n  <tbody>\n    <tr>\n      <th>0</th>\n      <td>0.0</td>\n      <td>0.0</td>\n      <td>0.0</td>\n      <td>0.0</td>\n      <td>0.0</td>\n      <td>0.0</td>\n      <td>0.0</td>\n      <td>1.0</td>\n      <td>0.0</td>\n      <td>0.0</td>\n      <td>...</td>\n      <td>0.0</td>\n      <td>0.0</td>\n      <td>0.0</td>\n      <td>0.0</td>\n      <td>0.0</td>\n      <td>1.0</td>\n      <td>0.0</td>\n      <td>0.021978</td>\n      <td>0.527629</td>\n      <td>0.612320</td>\n    </tr>\n    <tr>\n      <th>1</th>\n      <td>0.0</td>\n      <td>0.0</td>\n      <td>1.0</td>\n      <td>0.0</td>\n      <td>0.0</td>\n      <td>0.0</td>\n      <td>0.0</td>\n      <td>0.0</td>\n      <td>0.0</td>\n      <td>0.0</td>\n      <td>...</td>\n      <td>0.0</td>\n      <td>0.0</td>\n      <td>0.0</td>\n      <td>0.0</td>\n      <td>0.0</td>\n      <td>1.0</td>\n      <td>0.0</td>\n      <td>0.055314</td>\n      <td>0.624064</td>\n      <td>0.118376</td>\n    </tr>\n    <tr>\n      <th>2</th>\n      <td>0.0</td>\n      <td>0.0</td>\n      <td>0.0</td>\n      <td>0.0</td>\n      <td>0.0</td>\n      <td>0.0</td>\n      <td>0.0</td>\n      <td>1.0</td>\n      <td>0.0</td>\n      <td>0.0</td>\n      <td>...</td>\n      <td>0.0</td>\n      <td>0.0</td>\n      <td>0.0</td>\n      <td>0.0</td>\n      <td>0.0</td>\n      <td>1.0</td>\n      <td>0.0</td>\n      <td>0.025500</td>\n      <td>0.620614</td>\n      <td>0.459645</td>\n    </tr>\n    <tr>\n      <th>3</th>\n      <td>0.0</td>\n      <td>0.0</td>\n      <td>0.0</td>\n      <td>0.0</td>\n      <td>0.0</td>\n      <td>0.0</td>\n      <td>0.0</td>\n      <td>1.0</td>\n      <td>0.0</td>\n      <td>0.0</td>\n      <td>...</td>\n      <td>0.0</td>\n      <td>0.0</td>\n      <td>0.0</td>\n      <td>0.0</td>\n      <td>0.0</td>\n      <td>1.0</td>\n      <td>0.0</td>\n      <td>0.142379</td>\n      <td>0.630571</td>\n      <td>0.472040</td>\n    </tr>\n    <tr>\n      <th>4</th>\n      <td>0.0</td>\n      <td>0.0</td>\n      <td>0.0</td>\n      <td>0.0</td>\n      <td>0.0</td>\n      <td>0.0</td>\n      <td>0.0</td>\n      <td>1.0</td>\n      <td>0.0</td>\n      <td>0.0</td>\n      <td>...</td>\n      <td>0.0</td>\n      <td>0.0</td>\n      <td>0.0</td>\n      <td>0.0</td>\n      <td>0.0</td>\n      <td>1.0</td>\n      <td>0.0</td>\n      <td>0.043169</td>\n      <td>0.663437</td>\n      <td>0.433393</td>\n    </tr>\n  </tbody>\n</table>\n<p>5 rows × 82 columns</p>\n</div>"
     },
     "execution_count": 7,
     "metadata": {},
     "output_type": "execute_result"
    }
   ],
   "source": [
    "learning_df = (learning_df-learning_df.min())/(learning_df.max()-learning_df.min())\n",
    "learning_df.head()"
   ],
   "metadata": {
    "collapsed": false,
    "pycharm": {
     "name": "#%%\n"
    }
   }
  },
  {
   "cell_type": "markdown",
   "source": [
    "## Saving retrieved labels and data"
   ],
   "metadata": {
    "collapsed": false
   }
  },
  {
   "cell_type": "code",
   "execution_count": 8,
   "outputs": [],
   "source": [
    "learning_df.to_csv(\"../data/ready_to_ML_data.csv\", index=False)\n",
    "labels.to_csv(\"../data/labels.csv\", index=False)"
   ],
   "metadata": {
    "collapsed": false,
    "pycharm": {
     "name": "#%%\n"
    }
   }
  }
 ],
 "metadata": {
  "kernelspec": {
   "display_name": "Python 3",
   "language": "python",
   "name": "python3"
  },
  "language_info": {
   "codemirror_mode": {
    "name": "ipython",
    "version": 2
   },
   "file_extension": ".py",
   "mimetype": "text/x-python",
   "name": "python",
   "nbconvert_exporter": "python",
   "pygments_lexer": "ipython2",
   "version": "2.7.6"
  }
 },
 "nbformat": 4,
 "nbformat_minor": 0
}