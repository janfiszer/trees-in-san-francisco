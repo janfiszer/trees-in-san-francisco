{
 "cells": [
  {
   "cell_type": "code",
   "execution_count": 1,
   "metadata": {
    "collapsed": true
   },
   "outputs": [],
   "source": [
    "import geopandas as gpd\n"
   ]
  },
  {
   "cell_type": "markdown",
   "source": [
    "## load trees data with geopandas"
   ],
   "metadata": {
    "collapsed": false
   }
  },
  {
   "cell_type": "code",
   "execution_count": 2,
   "outputs": [
    {
     "data": {
      "text/plain": "geopandas.geodataframe.GeoDataFrame"
     },
     "execution_count": 2,
     "metadata": {},
     "output_type": "execute_result"
    }
   ],
   "source": [
    "df = gpd.read_file('../data/SF_urban_tree_canopy.geojson')\n",
    "type(df)"
   ],
   "metadata": {
    "collapsed": false,
    "pycharm": {
     "name": "#%%\n"
    }
   }
  },
  {
   "cell_type": "code",
   "execution_count": 3,
   "outputs": [
    {
     "data": {
      "text/plain": "                 acres   name           t_sqft  \\\n0  0.00000221382430071  Trees  0.0964338008024   \n1    0.000145516346336  Trees    6.33866669167   \n2     0.00012630908548  Trees    5.50200175546   \n3     0.00115850942522  Trees     50.464468704   \n4     0.00565374316464  Trees    246.276067144   \n\n                                            geometry  \n0  MULTIPOLYGON (((-122.43470 37.70830, -122.4347...  \n1  MULTIPOLYGON (((-122.43473 37.70830, -122.4347...  \n2  MULTIPOLYGON (((-122.43564 37.70829, -122.4356...  \n3  MULTIPOLYGON (((-122.43574 37.70831, -122.4357...  \n4  MULTIPOLYGON (((-122.43538 37.70831, -122.4353...  ",
      "text/html": "<div>\n<style scoped>\n    .dataframe tbody tr th:only-of-type {\n        vertical-align: middle;\n    }\n\n    .dataframe tbody tr th {\n        vertical-align: top;\n    }\n\n    .dataframe thead th {\n        text-align: right;\n    }\n</style>\n<table border=\"1\" class=\"dataframe\">\n  <thead>\n    <tr style=\"text-align: right;\">\n      <th></th>\n      <th>acres</th>\n      <th>name</th>\n      <th>t_sqft</th>\n      <th>geometry</th>\n    </tr>\n  </thead>\n  <tbody>\n    <tr>\n      <th>0</th>\n      <td>0.00000221382430071</td>\n      <td>Trees</td>\n      <td>0.0964338008024</td>\n      <td>MULTIPOLYGON (((-122.43470 37.70830, -122.4347...</td>\n    </tr>\n    <tr>\n      <th>1</th>\n      <td>0.000145516346336</td>\n      <td>Trees</td>\n      <td>6.33866669167</td>\n      <td>MULTIPOLYGON (((-122.43473 37.70830, -122.4347...</td>\n    </tr>\n    <tr>\n      <th>2</th>\n      <td>0.00012630908548</td>\n      <td>Trees</td>\n      <td>5.50200175546</td>\n      <td>MULTIPOLYGON (((-122.43564 37.70829, -122.4356...</td>\n    </tr>\n    <tr>\n      <th>3</th>\n      <td>0.00115850942522</td>\n      <td>Trees</td>\n      <td>50.464468704</td>\n      <td>MULTIPOLYGON (((-122.43574 37.70831, -122.4357...</td>\n    </tr>\n    <tr>\n      <th>4</th>\n      <td>0.00565374316464</td>\n      <td>Trees</td>\n      <td>246.276067144</td>\n      <td>MULTIPOLYGON (((-122.43538 37.70831, -122.4353...</td>\n    </tr>\n  </tbody>\n</table>\n</div>"
     },
     "execution_count": 3,
     "metadata": {},
     "output_type": "execute_result"
    }
   ],
   "source": [
    "df.head()"
   ],
   "metadata": {
    "collapsed": false,
    "pycharm": {
     "name": "#%%\n"
    }
   }
  },
  {
   "cell_type": "code",
   "execution_count": 5,
   "outputs": [
    {
     "data": {
      "text/plain": "acres         object\nname          object\nt_sqft        object\ngeometry    geometry\ndtype: object"
     },
     "execution_count": 5,
     "metadata": {},
     "output_type": "execute_result"
    }
   ],
   "source": [
    "df.dtypes"
   ],
   "metadata": {
    "collapsed": false,
    "pycharm": {
     "name": "#%%\n"
    }
   }
  },
  {
   "cell_type": "code",
   "execution_count": 7,
   "outputs": [
    {
     "data": {
      "text/plain": "289219"
     },
     "execution_count": 7,
     "metadata": {},
     "output_type": "execute_result"
    }
   ],
   "source": [
    "len(df)"
   ],
   "metadata": {
    "collapsed": false,
    "pycharm": {
     "name": "#%%\n"
    }
   }
  }
 ],
 "metadata": {
  "kernelspec": {
   "display_name": "Python 3",
   "language": "python",
   "name": "python3"
  },
  "language_info": {
   "codemirror_mode": {
    "name": "ipython",
    "version": 2
   },
   "file_extension": ".py",
   "mimetype": "text/x-python",
   "name": "python",
   "nbconvert_exporter": "python",
   "pygments_lexer": "ipython2",
   "version": "2.7.6"
  }
 },
 "nbformat": 4,
 "nbformat_minor": 0
}
